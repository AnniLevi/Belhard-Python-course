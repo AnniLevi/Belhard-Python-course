{
 "cells": [
  {
   "cell_type": "code",
   "execution_count": 3,
   "metadata": {},
   "outputs": [],
   "source": [
    "text = \"\"\"\n",
    "Так я жил в одиночестве, и не с кем было мне поговорить по душам. И вот шесть лет назад пришлось мне сделать вынужденную посадку в Сахаре.\n",
    "Что-то сломалось в моторе моего самолета. Со мной не было ни механика, ни пассажиров, и я решил, что попробую сам все починить,\n",
    "хоть это и очень трудно. Я должен был исправить мотор или погибнуть. Воды у меня едва хватило бы на\n",
    "неделю. Итак, в первый вечер я уснул на песке в пустыне, где на тысячи миль вокруг не было никакого жилья.\n",
    "Человек, потерпевший кораблекрушение и затерянный на плоту посреди океана, и тот был бы не так одинок.\n",
    "Вообразите же мое удивление, когда на рассвете меня разбудил чей-то тоненький голосок.\n",
    "\"\"\"\n",
    "\n",
    "bad_words = \"\"\"\n",
    "мотор\n",
    "жил\n",
    "цветы\n",
    "лес\n",
    "озеро\n",
    "\"\"\"\n",
    "\n",
    "with open('story.txt', mode='w', encoding='utf-8') as file_text, open('words.txt', mode='w', encoding='utf-8') as file_words:\n",
    "        file_text.write(text)\n",
    "        file_words.write(bad_words)\n"
   ]
  },
  {
   "cell_type": "code",
   "execution_count": 29,
   "metadata": {},
   "outputs": [],
   "source": [
    "\n",
    "text = ''\n",
    "bad_words = ''\n",
    "try:\n",
    "    with open('story.txt', mode='r', encoding='utf-8') as file_text, open('words.txt', mode='r', encoding='utf-8') as file_words:\n",
    "        text = file_text.read()\n",
    "        bad_words = file_words.read()\n",
    "except FileNotFoundError as exc:\n",
    "    print(exc)"
   ]
  },
  {
   "cell_type": "code",
   "execution_count": 30,
   "metadata": {},
   "outputs": [
    {
     "data": {
      "text/plain": [
       "['Так я жил в одиночестве, и не с кем было мне поговорить по душам',\n",
       " 'И вот шесть лет назад пришлось мне сделать вынужденную посадку в Сахаре',\n",
       " 'Что-то сломалось в моторе моего самолета',\n",
       " 'Со мной не было ни механика, ни пассажиров, и я решил, что попробую сам все починить, хоть это и очень трудно',\n",
       " 'Я должен был исправить мотор или погибнуть',\n",
       " 'Воды у меня едва хватило бы на неделю',\n",
       " 'Итак, в первый вечер я уснул на песке в пустыне, где на тысячи миль вокруг не было никакого жилья',\n",
       " 'Человек, потерпевший кораблекрушение и затерянный на плоту посреди океана, и тот был бы не так одинок',\n",
       " 'Вообразите же мое удивление, когда на рассвете меня разбудил чей-то тоненький голосок.']"
      ]
     },
     "execution_count": 30,
     "metadata": {},
     "output_type": "execute_result"
    }
   ],
   "source": [
    "text = text.strip()\n",
    "text = text.replace('\\n', ' ')\n",
    "text = text.split('. ')\n",
    "text"
   ]
  },
  {
   "cell_type": "code",
   "execution_count": 31,
   "metadata": {},
   "outputs": [
    {
     "data": {
      "text/plain": [
       "['мотор', 'жил', 'цветы', 'лес', 'озеро']"
      ]
     },
     "execution_count": 31,
     "metadata": {},
     "output_type": "execute_result"
    }
   ],
   "source": [
    "bad_words = bad_words.strip()\n",
    "bad_words = bad_words.split('\\n')\n",
    "bad_words"
   ]
  },
  {
   "cell_type": "code",
   "execution_count": 36,
   "metadata": {},
   "outputs": [
    {
     "data": {
      "text/plain": [
       "defaultdict(list,\n",
       "            {'жил': ['Так я жил в одиночестве, и не с кем было мне поговорить по душам',\n",
       "              'Итак, в первый вечер я уснул на песке в пустыне, где на тысячи миль вокруг не было никакого жилья'],\n",
       "             'мотор': ['Что-то сломалось в моторе моего самолета',\n",
       "              'Я должен был исправить мотор или погибнуть']})"
      ]
     },
     "execution_count": 36,
     "metadata": {},
     "output_type": "execute_result"
    }
   ],
   "source": [
    "from collections import defaultdict\n",
    "result = defaultdict(list)\n",
    "\n",
    "for row in text:\n",
    "    for word in bad_words:\n",
    "        if word in row:\n",
    "            result[word].append(row)\n",
    "result"
   ]
  },
  {
   "cell_type": "code",
   "execution_count": 39,
   "metadata": {},
   "outputs": [
    {
     "name": "stdout",
     "output_type": "stream",
     "text": [
      "Слово: жил\n",
      "Количество предложений: 2\n",
      "Предложения: ['Так я жил в одиночестве, и не с кем было мне поговорить по душам', 'Итак, в первый вечер я уснул на песке в пустыне, где на тысячи миль вокруг не было никакого жилья']\n",
      "Слово: мотор\n",
      "Количество предложений: 2\n",
      "Предложения: ['Что-то сломалось в моторе моего самолета', 'Я должен был исправить мотор или погибнуть']\n"
     ]
    }
   ],
   "source": [
    "if result:\n",
    "    for key, value in result.items():\n",
    "        print(f'Слово: {key}\\nКоличество предложений: {len(value)}\\nПредложения: {value}')\n",
    "else:\n",
    "    print('Текст прошел проверку на цензуру!')"
   ]
  },
  {
   "cell_type": "code",
   "execution_count": null,
   "metadata": {},
   "outputs": [],
   "source": []
  },
  {
   "cell_type": "code",
   "execution_count": 40,
   "metadata": {},
   "outputs": [
    {
     "name": "stdout",
     "output_type": "stream",
     "text": [
      "Слово: жил\n",
      "Количество предложений: 2\n",
      "Предложения: ['Так я жил в одиночестве, и не с кем было мне поговорить по душам', 'Итак, в первый вечер я уснул на песке в пустыне, где на тысячи миль вокруг не было никакого жилья']\n",
      "Слово: мотор\n",
      "Количество предложений: 2\n",
      "Предложения: ['Что-то сломалось в моторе моего самолета', 'Я должен был исправить мотор или погибнуть']\n"
     ]
    }
   ],
   "source": [
    "from collections import defaultdict\n",
    "\n",
    "text = ''\n",
    "bad_words = ''\n",
    "try:\n",
    "    with open('story.txt', mode='r', encoding='utf-8') as file_text, open('words.txt', mode='r', encoding='utf-8') as file_words:\n",
    "        text = file_text.read()\n",
    "        bad_words = file_words.read()\n",
    "except FileNotFoundError as exc:\n",
    "    print(exc)\n",
    "\n",
    "text = text.strip()\n",
    "text = text.replace('\\n', ' ')\n",
    "text = text.split('. ')\n",
    "\n",
    "bad_words = bad_words.strip()\n",
    "bad_words = bad_words.split('\\n')\n",
    "\n",
    "result = defaultdict(list)\n",
    "\n",
    "for row in text:\n",
    "    for word in bad_words:\n",
    "        if word in row:\n",
    "            result[word].append(row)\n",
    "            \n",
    "if result:\n",
    "    for key, value in result.items():\n",
    "        print(f'Слово: {key}\\nКоличество предложений: {len(value)}\\nПредложения: {value}')\n",
    "else:\n",
    "    print('Текст прошел проверку на цензуру!')"
   ]
  },
  {
   "cell_type": "code",
   "execution_count": null,
   "metadata": {},
   "outputs": [],
   "source": []
  }
 ],
 "metadata": {
  "kernelspec": {
   "display_name": "Python 3",
   "language": "python",
   "name": "python3"
  },
  "language_info": {
   "codemirror_mode": {
    "name": "ipython",
    "version": 3
   },
   "file_extension": ".py",
   "mimetype": "text/x-python",
   "name": "python",
   "nbconvert_exporter": "python",
   "pygments_lexer": "ipython3",
   "version": "3.8.5"
  }
 },
 "nbformat": 4,
 "nbformat_minor": 4
}
