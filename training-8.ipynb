{
 "cells": [
  {
   "cell_type": "code",
   "execution_count": 3,
   "metadata": {},
   "outputs": [
    {
     "data": {
      "text/plain": [
       "120"
      ]
     },
     "execution_count": 3,
     "metadata": {},
     "output_type": "execute_result"
    }
   ],
   "source": [
    "# Factorial\n",
    "# 5! = 5 * 4!\n",
    "def fact(n: int) -> int:\n",
    "    return n * fact(n - 1) if n else 1\n",
    "    \n",
    "fact(5)"
   ]
  },
  {
   "cell_type": "code",
   "execution_count": null,
   "metadata": {},
   "outputs": [],
   "source": [
    "fact(5) -> 5 * 24 = 120\n",
    "fact(4) -> 4 * 6 = 24\n",
    "fact(3) -> 3 * 2 = 6\n",
    "fact(2) -> 2 * 1 = 2\n",
    "fact(1) -> 1\n",
    "fact(0) -> 1"
   ]
  },
  {
   "cell_type": "code",
   "execution_count": 6,
   "metadata": {},
   "outputs": [
    {
     "data": {
      "text/plain": [
       "20"
      ]
     },
     "execution_count": 6,
     "metadata": {},
     "output_type": "execute_result"
    }
   ],
   "source": [
    "# Multiplication\n",
    "# 4 * 5 = \n",
    "# 4 + 4 * 4 = \n",
    "# 4 + 4 + 4 * 3 = \n",
    "# 4 + 4 + 4 + 4 * 2 = \n",
    "# 4 + 4 + 4 + 4 + 4 * 1 = \n",
    "# 4 + 4 + 4 + 4 + 4 + 4 * 0\n",
    "def my_mul(first: int, second: int) -> int:\n",
    "    return first + my_mul(first, second - 1) if second > 0 else 0\n",
    "\n",
    "my_mul(4, 5)"
   ]
  },
  {
   "cell_type": "code",
   "execution_count": 12,
   "metadata": {},
   "outputs": [
    {
     "data": {
      "text/plain": [
       "1024"
      ]
     },
     "execution_count": 12,
     "metadata": {},
     "output_type": "execute_result"
    }
   ],
   "source": [
    "# Power\n",
    "# 4 ** 5 =\n",
    "# 4 * 4 ** 4 = \n",
    "# ...\n",
    "# 4 * 4 * 4 * 4 * 4 * 4 ** 0\n",
    "\n",
    "def my_pow(number: int, power: int) -> int:\n",
    "    if power == 0:\n",
    "        return 1\n",
    "    return number * my_pow(number, power - 1)\n",
    "\n",
    "def my_pow(number: int, power: int) -> int:\n",
    "    return number * my_pow(number, power - 1) if power > 0 else 1\n",
    "\n",
    "my_pow(4, 5)"
   ]
  },
  {
   "cell_type": "code",
   "execution_count": 16,
   "metadata": {},
   "outputs": [
    {
     "data": {
      "text/plain": [
       "1024"
      ]
     },
     "execution_count": 16,
     "metadata": {},
     "output_type": "execute_result"
    }
   ],
   "source": [
    "def my_pow1(number: int, power: int) -> int:\n",
    "    return my_mul(number, my_pow(number, power - 1)) if power > 0 else 1\n",
    "\n",
    "my_pow1(4, 5)"
   ]
  },
  {
   "cell_type": "code",
   "execution_count": 27,
   "metadata": {},
   "outputs": [
    {
     "name": "stdout",
     "output_type": "stream",
     "text": [
      "hello\n",
      "hell\n",
      "hel\n",
      "he\n",
      "h\n",
      "\n"
     ]
    }
   ],
   "source": [
    "def elka(row: str) -> str:\n",
    "    if len(row) > 0:\n",
    "        return row +'\\n' + elka(row[:-1])\n",
    "    return row[:-1]\n",
    "\n",
    "print(elka('hello'))"
   ]
  },
  {
   "cell_type": "code",
   "execution_count": null,
   "metadata": {},
   "outputs": [],
   "source": []
  }
 ],
 "metadata": {
  "kernelspec": {
   "display_name": "Python 3",
   "language": "python",
   "name": "python3"
  },
  "language_info": {
   "codemirror_mode": {
    "name": "ipython",
    "version": 3
   },
   "file_extension": ".py",
   "mimetype": "text/x-python",
   "name": "python",
   "nbconvert_exporter": "python",
   "pygments_lexer": "ipython3",
   "version": "3.8.5"
  }
 },
 "nbformat": 4,
 "nbformat_minor": 4
}
