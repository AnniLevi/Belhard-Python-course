{
 "cells": [
  {
   "cell_type": "code",
   "execution_count": null,
   "metadata": {},
   "outputs": [],
   "source": [
    "1. создать генератор последовательности Фибоначчи \n",
    "(генератор может выдавать бесконечное количество элементов)\n",
    "2.создать генератор последовательности простых чисел \n",
    "(генератор может выдавать бесконечное количество элементов)\n",
    "3. Дан список, состоящий из некоторых элементов:\n",
    "my_awesome_list = ['hello', 'world', 'this', 'is', 'my', 'new', 'generator', 'task']\n",
    "Напишите функцию-генератор, иммитирующую работу пагинатора в веб-фреймворках. \n",
    "Функция принимает 2 параметра: список элементов подлежащих пагинации и размер части списка, \n",
    "которая будет возвращаться (размер пагинации). \n",
    "Если размер последней части списка меньше размера пагинации, возвращать все оставшиеся элементы.\n",
    "\n",
    "Пример работы:\n",
    "for page in paginate(my_awesome_list, 3):\n",
    "    print(page)\n",
    "\n",
    "['hello', 'world', 'this']\n",
    "['is' 'my', 'new']\n",
    "['generator', 'task']\n",
    "\n",
    "*Дополнительное задание: добавить параметр fill_last. Если размер последней части меньше размера пагинации,\n",
    "выводить кол-во последних элементов соответствующих размеру пагинации.\n",
    "\n",
    "Пример работы:\n",
    "for page in paginate(my_awesome_list, 3, fill_last=True):\n",
    "    print(page)\n",
    "\n",
    "['hello', 'world', 'this']\n",
    "['is' 'my', 'new']\n",
    "['new', 'generator', 'task']"
   ]
  },
  {
   "cell_type": "code",
   "execution_count": 25,
   "metadata": {},
   "outputs": [],
   "source": [
    "# 1\n",
    "def fibonacci():\n",
    "    a, b = 0, 1\n",
    "    while True:\n",
    "        yield a\n",
    "        a, b = b, a + b\n",
    "\n",
    "gen_fib = fibonacci()"
   ]
  },
  {
   "cell_type": "code",
   "execution_count": 24,
   "metadata": {},
   "outputs": [
    {
     "data": {
      "text/plain": [
       "6765"
      ]
     },
     "execution_count": 24,
     "metadata": {},
     "output_type": "execute_result"
    }
   ],
   "source": [
    "next(gen_fib)"
   ]
  },
  {
   "cell_type": "code",
   "execution_count": 22,
   "metadata": {},
   "outputs": [
    {
     "name": "stdout",
     "output_type": "stream",
     "text": [
      "0 1 1 2 3 5 8 13 21 34 "
     ]
    }
   ],
   "source": [
    "for _ in range(10):\n",
    "    print(next(gen_fib), end=' ')"
   ]
  },
  {
   "cell_type": "code",
   "execution_count": 26,
   "metadata": {},
   "outputs": [
    {
     "data": {
      "text/plain": [
       "[0, 1, 1, 2, 3, 5, 8, 13, 21, 34]"
      ]
     },
     "execution_count": 26,
     "metadata": {},
     "output_type": "execute_result"
    }
   ],
   "source": [
    "[next(gen_fib) for _ in range(10)]"
   ]
  },
  {
   "cell_type": "code",
   "execution_count": 27,
   "metadata": {},
   "outputs": [
    {
     "name": "stdout",
     "output_type": "stream",
     "text": [
      "qweqweasdasd\n"
     ]
    }
   ],
   "source": [
    "a = 'qweqwe'\n",
    "a = a + 'asdasd'\n",
    "print(a)"
   ]
  },
  {
   "cell_type": "code",
   "execution_count": 39,
   "metadata": {},
   "outputs": [
    {
     "name": "stdout",
     "output_type": "stream",
     "text": [
      "((1, 'a'), (2, 'b'), (3, 'c'))\n"
     ]
    }
   ],
   "source": [
    "a = [1,2,3]\n",
    "b = ['a', 'b', 'c']\n",
    "res = zip(a, b)\n",
    "print(tuple(res))\n",
    "          "
   ]
  },
  {
   "cell_type": "code",
   "execution_count": null,
   "metadata": {},
   "outputs": [],
   "source": [
    "a = [1, 'hello', [(1,3,2), ['fine']], (1,5)]\n",
    "output: 1, (1,3,2), (1,5)"
   ]
  },
  {
   "cell_type": "code",
   "execution_count": 48,
   "metadata": {},
   "outputs": [
    {
     "name": "stdout",
     "output_type": "stream",
     "text": [
      "[1, 2, 3]\n"
     ]
    }
   ],
   "source": [
    "def find_list_tuples(arr):\n",
    "    result = []\n",
    "    for elem in arr:\n",
    "        if type(elem) == list:\n",
    "            return find_list_tuples(elem)\n",
    "        else:\n",
    "            result.append(elem)\n",
    "    return result\n",
    "        \n",
    "print(find_list_tuples(a))"
   ]
  },
  {
   "cell_type": "code",
   "execution_count": 89,
   "metadata": {},
   "outputs": [],
   "source": [
    "# 2\n",
    "def primes():\n",
    "    prime_numbers = []\n",
    "    number = 1\n",
    "    while True:\n",
    "        number += 1\n",
    "        for prime in prime_numbers:\n",
    "            if number % prime == 0:\n",
    "                break\n",
    "        else:\n",
    "            prime_numbers.append(number)\n",
    "            yield number\n",
    "\n",
    "                \n",
    "gen_primes = primes()"
   ]
  },
  {
   "cell_type": "code",
   "execution_count": 93,
   "metadata": {},
   "outputs": [
    {
     "data": {
      "text/plain": [
       "7"
      ]
     },
     "execution_count": 93,
     "metadata": {},
     "output_type": "execute_result"
    }
   ],
   "source": [
    "next(gen_primes)"
   ]
  },
  {
   "cell_type": "code",
   "execution_count": 94,
   "metadata": {},
   "outputs": [],
   "source": [
    "# 3\n",
    "def paginate(array, quantity):\n",
    "    for index in range(0, len(array), quantity):\n",
    "        yield array[index:index + quantity]\n",
    "        "
   ]
  },
  {
   "cell_type": "code",
   "execution_count": 96,
   "metadata": {},
   "outputs": [
    {
     "name": "stdout",
     "output_type": "stream",
     "text": [
      "['hello', 'world', 'this']\n",
      "['is', 'my', 'new']\n",
      "['generator', 'task']\n"
     ]
    }
   ],
   "source": [
    "my_awesome_list = ['hello', 'world', 'this', 'is', 'my', 'new', 'generator', 'task']\n",
    "for page in paginate(my_awesome_list, 3):\n",
    "    print(page)"
   ]
  },
  {
   "cell_type": "code",
   "execution_count": 97,
   "metadata": {},
   "outputs": [],
   "source": [
    "# 3*\n",
    "def paginate_adv(array: list, quantity: int, fill_last: bool):\n",
    "    for index in range(0, len(array), quantity):\n",
    "        index2 = index + quantity\n",
    "        if fill_last and index2 > len(array):\n",
    "            index2 = len(array)\n",
    "            index = index2 - quantity\n",
    "        yield array[index:index2]        "
   ]
  },
  {
   "cell_type": "code",
   "execution_count": 98,
   "metadata": {},
   "outputs": [
    {
     "name": "stdout",
     "output_type": "stream",
     "text": [
      "['hello', 'world', 'this']\n",
      "['is', 'my', 'new']\n",
      "['new', 'generator', 'task']\n"
     ]
    }
   ],
   "source": [
    "my_awesome_list = ['hello', 'world', 'this', 'is', 'my', 'new', 'generator', 'task']\n",
    "for page in paginate_adv(my_awesome_list, 3, fill_last=True):\n",
    "    print(page)"
   ]
  },
  {
   "cell_type": "code",
   "execution_count": null,
   "metadata": {},
   "outputs": [],
   "source": []
  },
  {
   "cell_type": "code",
   "execution_count": null,
   "metadata": {},
   "outputs": [],
   "source": []
  }
 ],
 "metadata": {
  "kernelspec": {
   "display_name": "Python 3",
   "language": "python",
   "name": "python3"
  },
  "language_info": {
   "codemirror_mode": {
    "name": "ipython",
    "version": 3
   },
   "file_extension": ".py",
   "mimetype": "text/x-python",
   "name": "python",
   "nbconvert_exporter": "python",
   "pygments_lexer": "ipython3",
   "version": "3.8.5"
  }
 },
 "nbformat": 4,
 "nbformat_minor": 4
}
