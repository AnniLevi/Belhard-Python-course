{
 "cells": [
  {
   "cell_type": "markdown",
   "metadata": {},
   "source": [
    "winterpython"
   ]
  },
  {
   "cell_type": "code",
   "execution_count": null,
   "metadata": {},
   "outputs": [],
   "source": [
    "# № 1\n",
    "# Black Box (int -> int)\n",
    "# 5 -> 5\n",
    "# -7 -> 7\n",
    "def f(num):\n",
    "    return abs(num)\n"
   ]
  },
  {
   "cell_type": "code",
   "execution_count": null,
   "metadata": {},
   "outputs": [],
   "source": [
    "# 2\n",
    "# Black Box (float -> int)\n",
    "# 2.3 -> 2\n",
    "# 101.9 -> 101\n",
    "\n",
    "def f(n):\n",
    "    return int(n)"
   ]
  },
  {
   "cell_type": "code",
   "execution_count": null,
   "metadata": {},
   "outputs": [],
   "source": [
    "# 3\n",
    "# Black Box (int -> int)\n",
    "# 2 -> 4\n",
    "# 5 -> 10\n",
    "# 128 -> 256\n",
    "# 500 -> 1000\n",
    "# 700 -> 1400\n",
    "\n",
    "def f(n):\n",
    "    return n * 2"
   ]
  },
  {
   "cell_type": "code",
   "execution_count": null,
   "metadata": {},
   "outputs": [],
   "source": [
    "# 4\n",
    "# Black Box (str -> int)\n",
    "# abcd -> 4\n",
    "# hello -> 5\n",
    "\n",
    "def f(string):\n",
    "    return len(string)"
   ]
  },
  {
   "cell_type": "code",
   "execution_count": 2,
   "metadata": {},
   "outputs": [
    {
     "name": "stdout",
     "output_type": "stream",
     "text": [
      "4\n"
     ]
    }
   ],
   "source": [
    "# 5\n",
    "# Black Box (str -> int)\n",
    "# The Matrix -> 2\n",
    "# The truth is out there -> 5\n",
    "# Ты заходи, если что! -> 4\n",
    "\n",
    "def f(row):\n",
    "    arr = row.split(' ')\n",
    "    return len(arr)\n",
    "\n",
    "print(f('Ты заходи, если что!'))\n"
   ]
  },
  {
   "cell_type": "code",
   "execution_count": null,
   "metadata": {},
   "outputs": [],
   "source": [
    "# 6\n",
    "# Black Box (str -> str)\n",
    "# Game of Thrones -> Game\n",
    "# Hello world -> Hello\n",
    "\n",
    "def f(row):\n",
    "    arr = row.split(' ')\n",
    "    return arr[0]"
   ]
  },
  {
   "cell_type": "code",
   "execution_count": null,
   "metadata": {},
   "outputs": [],
   "source": [
    "# 7\n",
    "# Black Box (str -> int)\n",
    "# abcA -> 3\n",
    "# ASDFasdfrt -> 6\n",
    "\n",
    "def f(row):\n",
    "    count = 0\n",
    "    for letter in row:\n",
    "        if letter.islower():\n",
    "            count += 1\n",
    "    return count"
   ]
  },
  {
   "cell_type": "code",
   "execution_count": null,
   "metadata": {},
   "outputs": [],
   "source": [
    "# 8\n",
    "# Black Box (str -> int)\n",
    "# abbAc -> 2\n",
    "# Hello, hello -> 4\n",
    "# One -> 2\n",
    "# Ten -> 1\n",
    "\n",
    "def f(row):\n",
    "    row = row.lower()\n",
    "    vowels = 'aeiouy'\n",
    "    count = 0\n",
    "    for letter in row:\n",
    "        if letter in vowels:\n",
    "            count += 1\n",
    "    return count"
   ]
  },
  {
   "cell_type": "code",
   "execution_count": null,
   "metadata": {},
   "outputs": [],
   "source": [
    "# 9\n",
    "# Black Box (str -> bool)\n",
    "# abba -> True\n",
    "# abbat -> False\n",
    "# detartrated -> True\n",
    "# redivider -> True\n",
    "# redivide -> False\n",
    "\n",
    "def f(row):\n",
    "    return row == row[::-1]"
   ]
  },
  {
   "cell_type": "code",
   "execution_count": 9,
   "metadata": {},
   "outputs": [
    {
     "name": "stdout",
     "output_type": "stream",
     "text": [
      "True\n"
     ]
    }
   ],
   "source": [
    "# 10\n",
    "# Black Box (str -> bool)\n",
    "# hello -> True\n",
    "# world -> False\n",
    "# Happen -> True\n",
    "# Gg -> True\n",
    "# Hi!! -> False\n",
    "# 88f -> False\n",
    "\n",
    "def f(row):\n",
    "    row = row.lower()\n",
    "    for letter in row:\n",
    "        if letter.isalpha() and row.count(letter) > 1:\n",
    "            return True\n",
    "    return False\n",
    "        \n",
    "print(f('Happen'))"
   ]
  },
  {
   "cell_type": "code",
   "execution_count": 16,
   "metadata": {},
   "outputs": [
    {
     "name": "stdout",
     "output_type": "stream",
     "text": [
      "36\n"
     ]
    }
   ],
   "source": [
    "# 11\n",
    "# Black Box (int -> int)\n",
    "# 2 -> 4\n",
    "# 3 -> 27\n",
    "# 5 -> 125\n",
    "# 6 -> 36\n",
    "# 10 -> 100\n",
    "\n",
    "def f(n):\n",
    "    if n % 2:\n",
    "        result = 3\n",
    "    else:\n",
    "        result = 2\n",
    "    return n ** result\n",
    "\n",
    "print(f(6))"
   ]
  },
  {
   "cell_type": "code",
   "execution_count": 12,
   "metadata": {},
   "outputs": [
    {
     "name": "stdout",
     "output_type": "stream",
     "text": [
      "27\n"
     ]
    }
   ],
   "source": [
    "# 12\n",
    "# Black Box (list -> int)\n",
    "# [1, 2, 3] -> 6\n",
    "# [-5, 10, 20, 0] -> 25\n",
    "# [100, 500, 900] -> 1500\n",
    "\n",
    "def f(arr):\n",
    "    sum = 0\n",
    "    for digit in arr:\n",
    "        sum += digit\n",
    "    return sum"
   ]
  },
  {
   "cell_type": "code",
   "execution_count": 18,
   "metadata": {},
   "outputs": [],
   "source": [
    "# 13\n",
    "# Black Box (list -> int)\n",
    "# [1, 2, 3] -> 3\n",
    "# [-5, 10, 20, 0] -> 20\n",
    "# [100, 500] -> 500\n",
    "\n",
    "def f(arr):\n",
    "    if len(arr) >= 3:\n",
    "        return arr[2]\n",
    "    else:\n",
    "        return arr[-1]"
   ]
  },
  {
   "cell_type": "code",
   "execution_count": null,
   "metadata": {},
   "outputs": [],
   "source": [
    "# 14\n",
    "# Black Box (str -> str)\n",
    "# A -> a\n",
    "# Hi -> hi\n",
    "# SuMMeR -> summer\n",
    "# GoOd IdEa -> good idea\n",
    "\n",
    "def f(row):\n",
    "    return row.lower()"
   ]
  },
  {
   "cell_type": "code",
   "execution_count": 2,
   "metadata": {},
   "outputs": [
    {
     "name": "stdout",
     "output_type": "stream",
     "text": [
      "AAATACGGG\n"
     ]
    }
   ],
   "source": [
    "# 15\n",
    "# Black Box (str -> str)\n",
    "# AGT -> TCA\n",
    "# AATGC -> TTACG\n",
    "# TTTATGCCC -> AAATACGGG\n",
    "\n",
    "def f(row):\n",
    "    example = {'A':'T', 'G':'C', 'T': 'A', 'C': 'G'}\n",
    "    new_row = ''\n",
    "    for letter in row:\n",
    "        new_row += example[letter]\n",
    "    return new_row\n",
    "\n",
    "print(f('TTTATGCCC'))"
   ]
  },
  {
   "cell_type": "code",
   "execution_count": null,
   "metadata": {},
   "outputs": [],
   "source": [
    "# 16\n",
    "# Black Box (str -> int)\n",
    "# a -> 1\n",
    "# b -> 2\n",
    "# d -> 4\n",
    "# k -> 11\n",
    "# z -> 26\n",
    "\n",
    "def f(letter):\n",
    "    row = 'abcdifghijklmnopqrstuvwxyz'\n",
    "    index = row.index(letter)\n",
    "    return index + 1"
   ]
  },
  {
   "cell_type": "code",
   "execution_count": null,
   "metadata": {},
   "outputs": [],
   "source": [
    "# 17\n",
    "# Black Box (str -> int)\n",
    "# a -> 1\n",
    "# B -> 2\n",
    "# d -> 4\n",
    "# L -> 12\n",
    "# Z -> 26\n",
    "\n",
    "def f(letter):\n",
    "    letter = letter.lower()\n",
    "    row = 'abcdifghijklmnopqrstuvwxyz'\n",
    "    index = row.index(letter)\n",
    "    return index + 1"
   ]
  },
  {
   "cell_type": "code",
   "execution_count": 11,
   "metadata": {},
   "outputs": [],
   "source": [
    "# 18\n",
    "# Black Box (int -> str)\n",
    "# 2 -> 10\n",
    "# 3 -> 11\n",
    "# 10 -> 1010\n",
    "# 100 -> 1100100\n",
    "\n",
    "def f(number):\n",
    "    return bin(number)[2:]"
   ]
  },
  {
   "cell_type": "code",
   "execution_count": 10,
   "metadata": {},
   "outputs": [],
   "source": [
    "# 19\n",
    "# Black Box (int -> int)\n",
    "# 2 -> 1\n",
    "# 3 -> 2\n",
    "# 10 -> 2\n",
    "# 100 -> 3\n",
    "\n",
    "def f(number):\n",
    "    result = bin(number)[2:]\n",
    "    sum = 0\n",
    "    for l in result:\n",
    "        sum += int(l)\n",
    "    return sum"
   ]
  },
  {
   "cell_type": "code",
   "execution_count": null,
   "metadata": {},
   "outputs": [],
   "source": [
    "# 20\n",
    "# Black Box (str -> str)\n",
    "# a -> *\n",
    "# Abc -> ***\n",
    "# hello -> *****\n",
    "# Hi, Friend -> **********\n",
    "# You and Me -> **********\n",
    "\n",
    "def f(row):\n",
    "    length = len(row)\n",
    "    return '*' * length"
   ]
  },
  {
   "cell_type": "code",
   "execution_count": 13,
   "metadata": {},
   "outputs": [
    {
     "name": "stdout",
     "output_type": "stream",
     "text": [
      "**, ******\n"
     ]
    }
   ],
   "source": [
    "# 21\n",
    "# a -> *\n",
    "# Abc -> ***\n",
    "# hello -> *****\n",
    "# Hi, Friend -> **, ******\n",
    "# You and Me -> *** *** **\n",
    "\n",
    "def f(row):\n",
    "    result = ''\n",
    "    for letter in row:\n",
    "        if letter.isalpha():\n",
    "            result += '*'            \n",
    "        else:\n",
    "            result += letter\n",
    "    return result\n",
    "\n",
    "print(f('Hi, Friend'))"
   ]
  },
  {
   "cell_type": "code",
   "execution_count": null,
   "metadata": {},
   "outputs": [],
   "source": [
    "# 22\n",
    "# Black Box (str -> str)\n",
    "# a -> *\n",
    "# Abc -> @**\n",
    "# hello -> *****\n",
    "# Hi, Friend -> @***@*****\n",
    "# You and Me -> @*******@*\n",
    "\n",
    "def f(row):\n",
    "    result = ''\n",
    "    for letter in row:\n",
    "        if letter.isupper():\n",
    "            result += '@'\n",
    "        else:\n",
    "            result += '*'\n",
    "    return result"
   ]
  },
  {
   "cell_type": "code",
   "execution_count": null,
   "metadata": {},
   "outputs": [],
   "source": [
    "# 23\n",
    "# Black Box (str -> str)\n",
    "# ab -> ab\n",
    "# Abc -> A*c\n",
    "# hello -> h***o\n",
    "# Hi, Friend -> H********d\n",
    "# You and Me -> Y********e\n",
    "\n",
    "def f(row):\n",
    "    length = len(row)\n",
    "    result = row[0] + '*' * (length - 2) + row[-1]\n",
    "    return result"
   ]
  },
  {
   "cell_type": "code",
   "execution_count": null,
   "metadata": {},
   "outputs": [],
   "source": [
    "# 24\n",
    "# Black Box (str -> int)\n",
    "# 45012 -> 3\n",
    "# 08551851 -> 33\n",
    "# 12345 -> 15\n",
    "# 073850037536763 -> 40\n",
    "\n",
    "def f(row):\n",
    "    sum = 0\n",
    "    while '0' in row:\n",
    "        i0 = row.index('0')\n",
    "        row = row[i0 + 1:]\n",
    "    for letter in row:\n",
    "        sum += int(letter)\n",
    "    return sum"
   ]
  },
  {
   "cell_type": "code",
   "execution_count": null,
   "metadata": {},
   "outputs": [],
   "source": [
    "# 25\n",
    "# Black Box (str -> str)\n",
    "# summer -> svopiw\n",
    "# abcdef -> acegik\n",
    "# water -> wbvhv\n",
    "# aaaaaa -> abcdef\n",
    "\n",
    "def f(row):\n",
    "    result = ''\n",
    "    for index, letter in enumerate(row):\n",
    "        result += chr(ord(letter) + index)\n",
    "    return result"
   ]
  },
  {
   "cell_type": "code",
   "execution_count": 25,
   "metadata": {},
   "outputs": [
    {
     "name": "stdout",
     "output_type": "stream",
     "text": [
      "-1 3 4 9 67 83 123\n"
     ]
    }
   ],
   "source": [
    "# 26\n",
    "# Black Box (str -> str)\n",
    "# 5 4 9 2 7 -> 2 4 5 7 9\n",
    "# 3 67 -1 123 9 4 83 -> -1 3 4 9 67 83 123\n",
    "\n",
    "def f(row):\n",
    "    arr = row.split(' ')\n",
    "    for i in range(len(arr)):\n",
    "        arr[i] = int(arr[i])\n",
    "    arr.sort()\n",
    "    result = ''\n",
    "    for num in arr:\n",
    "        result += str(num) + ' '\n",
    "    return result[:-1]\n",
    "\n",
    "print(f('3 67 -1 123 9 4 83'))"
   ]
  },
  {
   "cell_type": "code",
   "execution_count": 7,
   "metadata": {},
   "outputs": [
    {
     "name": "stdout",
     "output_type": "stream",
     "text": [
      "8\n"
     ]
    }
   ],
   "source": [
    "# 27\n",
    "# Black Box (str -> int)\n",
    "# 123 -> 2\n",
    "# 2314 -> 3\n",
    "# 1111 -> 0\n",
    "# 33278110 -> 5\n",
    "# 112233445566778899 -> 8\n",
    "\n",
    "def f(row):\n",
    "    count = set('1',)\n",
    "    for elem in row:\n",
    "            if elem != '1':\n",
    "                count.add(elem)\n",
    "    return len(count) - 1\n",
    "\n",
    "print(f('112233445566778899'))"
   ]
  }
 ],
 "metadata": {
  "kernelspec": {
   "display_name": "Python 3",
   "language": "python",
   "name": "python3"
  },
  "language_info": {
   "codemirror_mode": {
    "name": "ipython",
    "version": 3
   },
   "file_extension": ".py",
   "mimetype": "text/x-python",
   "name": "python",
   "nbconvert_exporter": "python",
   "pygments_lexer": "ipython3",
   "version": "3.8.5"
  }
 },
 "nbformat": 4,
 "nbformat_minor": 4
}
