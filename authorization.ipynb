{
 "cells": [
  {
   "cell_type": "code",
   "execution_count": 1,
   "metadata": {},
   "outputs": [],
   "source": [
    "import requests"
   ]
  },
  {
   "cell_type": "code",
   "execution_count": null,
   "metadata": {},
   "outputs": [],
   "source": [
    "# Session authentication"
   ]
  },
  {
   "cell_type": "code",
   "execution_count": 2,
   "metadata": {},
   "outputs": [
    {
     "data": {
      "text/plain": [
       "<Response [200]>"
      ]
     },
     "execution_count": 2,
     "metadata": {},
     "output_type": "execute_result"
    }
   ],
   "source": [
    "session = requests.Session()\n",
    "session.get('http://127.0.0.1:8000/accounts/login/')"
   ]
  },
  {
   "cell_type": "code",
   "execution_count": 3,
   "metadata": {},
   "outputs": [
    {
     "data": {
      "text/plain": [
       "<RequestsCookieJar[Cookie(version=0, name='csrftoken', value='ymBfXGaQ6HJJJmLTGZwKeZYF0BWw2WlhWQ9zgWx4PxO4Nsmlv5Ml4ucWWjCgKoUO', port=None, port_specified=False, domain='127.0.0.1', domain_specified=False, domain_initial_dot=False, path='/', path_specified=True, secure=False, expires=1655062239, discard=False, comment=None, comment_url=None, rest={'SameSite': 'Lax'}, rfc2109=False)]>"
      ]
     },
     "execution_count": 3,
     "metadata": {},
     "output_type": "execute_result"
    }
   ],
   "source": [
    "session.cookies"
   ]
  },
  {
   "cell_type": "code",
   "execution_count": 4,
   "metadata": {},
   "outputs": [
    {
     "data": {
      "text/plain": [
       "['csrftoken']"
      ]
     },
     "execution_count": 4,
     "metadata": {},
     "output_type": "execute_result"
    }
   ],
   "source": [
    "session.cookies.keys()"
   ]
  },
  {
   "cell_type": "code",
   "execution_count": 5,
   "metadata": {},
   "outputs": [
    {
     "data": {
      "text/plain": [
       "'ymBfXGaQ6HJJJmLTGZwKeZYF0BWw2WlhWQ9zgWx4PxO4Nsmlv5Ml4ucWWjCgKoUO'"
      ]
     },
     "execution_count": 5,
     "metadata": {},
     "output_type": "execute_result"
    }
   ],
   "source": [
    "session.cookies['csrftoken']"
   ]
  },
  {
   "cell_type": "code",
   "execution_count": 6,
   "metadata": {},
   "outputs": [
    {
     "data": {
      "text/plain": [
       "<Response [200]>"
      ]
     },
     "execution_count": 6,
     "metadata": {},
     "output_type": "execute_result"
    }
   ],
   "source": [
    "data = {\n",
    "    'login': 'admin',\n",
    "    'pwd': '123',\n",
    "    'csrfmiddlewaretoken': session.cookies['csrftoken']\n",
    "}\n",
    "\n",
    "session.post('http://127.0.0.1:8000/accounts/login/', data=data)"
   ]
  },
  {
   "cell_type": "code",
   "execution_count": 8,
   "metadata": {},
   "outputs": [
    {
     "data": {
      "text/plain": [
       "['csrftoken', 'sessionid']"
      ]
     },
     "execution_count": 8,
     "metadata": {},
     "output_type": "execute_result"
    }
   ],
   "source": [
    "session.cookies.keys()"
   ]
  },
  {
   "cell_type": "code",
   "execution_count": 9,
   "metadata": {},
   "outputs": [
    {
     "data": {
      "text/plain": [
       "'itofi6ldxah50uu2q1fbu564se2oulz5'"
      ]
     },
     "execution_count": 9,
     "metadata": {},
     "output_type": "execute_result"
    }
   ],
   "source": [
    "session.cookies['sessionid']"
   ]
  },
  {
   "cell_type": "code",
   "execution_count": null,
   "metadata": {},
   "outputs": [],
   "source": []
  },
  {
   "cell_type": "code",
   "execution_count": 14,
   "metadata": {},
   "outputs": [
    {
     "data": {
      "text/plain": [
       "<Response [200]>"
      ]
     },
     "execution_count": 14,
     "metadata": {},
     "output_type": "execute_result"
    }
   ],
   "source": [
    "url = 'http://127.0.0.1:8000/shop/add-ajax-like/'\n",
    "data = {'comment_id': 1, 'csrfmiddlewaretoken': session.cookies['csrftoken']}\n",
    "\n",
    "session.post(url, data=data)"
   ]
  },
  {
   "cell_type": "code",
   "execution_count": 18,
   "metadata": {},
   "outputs": [
    {
     "data": {
      "text/plain": [
       "{'detail': 'Учетные данные не были предоставлены.'}"
      ]
     },
     "execution_count": 18,
     "metadata": {},
     "output_type": "execute_result"
    }
   ],
   "source": [
    "url = 'http://127.0.0.1:8000/shop/show_all_books/'\n",
    "requests.get(url).json()"
   ]
  },
  {
   "cell_type": "code",
   "execution_count": null,
   "metadata": {},
   "outputs": [],
   "source": [
    "# Basic authentication"
   ]
  },
  {
   "cell_type": "code",
   "execution_count": 20,
   "metadata": {
    "scrolled": true
   },
   "outputs": [
    {
     "data": {
      "text/plain": [
       "[{'title': 'Кораблики',\n",
       "  'text': 'Lorem ipsum dolor sit amet, consectetur adipiscing elit. Mauris efficitur suscipit dolor eget imperdiet. Donec eget nisl a mauris bibendum fringilla. Donec ut leo magna. Aenean sit amet mauris velit. Sed rhoncus ullamcorper diam eu lobortis. Fusce nec rutrum urna. Maecenas vitae mi eget nisi luctus laoreet. Pellentesque elit arcu, sodales et elit eu, dignissim faucibus neque. Orci varius natoque penatibus et magnis dis parturient montes, nascetur ridiculus mus. Ut molestie gravida diam pharetra dapibus. Maecenas sagittis scelerisque sapien vitae posuere.\\r\\n\\r\\nMauris in tincidunt lectus. Nulla pellentesque cursus fermentum. Phasellus sed faucibus lorem. Donec molestie gravida augue, in gravida nulla suscipit in. Mauris maximus ornare neque. Nunc laoreet ligula ac lobortis vehicula. Proin suscipit lobortis venenatis. Vestibulum finibus orci a augue bibendum congue.\\r\\n\\r\\nSed malesuada vitae augue ut egestas. Maecenas elit tortor, pulvinar ut sem sed, sodales lobortis dolor. Donec sem ligula, tristique vel imperdiet id, bibendum non justo. Nam ac aliquam lorem. Ut vel ipsum orci. Nulla mi diam, molestie placerat nunc ut, rutrum molestie tortor. Praesent maximus aliquet congue. Donec vitae venenatis lacus. Nunc sit amet turpis interdum, sodales nulla eget, pulvinar leo. Duis malesuada at ipsum at ultricies. Pellentesque varius ipsum eget dignissim dictum. Aliquam erat volutpat. Praesent porttitor enim vel tempus tempus.',\n",
       "  'img': 'http://127.0.0.1:8000/media/book_shop/%D0%9A%D0%BE%D1%80%D0%B0%D0%B1%D0%BB%D0%B8%D0%BA%D0%B8/2021/06/08/2-5.jpg',\n",
       "  'my_custom_field': 'Lorem ipsu hello',\n",
       "  'author': {'id': 5,\n",
       "   'password': 'pbkdf2_sha256$260000$lE3yVdHKWKB8aZBFf7Zl0d$DSSqTm2dR8rPfxZgdiJ7ohC9xoChgkoA3tM/ueg+2uY=',\n",
       "   'last_login': None,\n",
       "   'is_superuser': False,\n",
       "   'username': 'Alex',\n",
       "   'first_name': '',\n",
       "   'last_name': '',\n",
       "   'email': '',\n",
       "   'is_staff': False,\n",
       "   'is_active': True,\n",
       "   'date_joined': '2021-05-31T00:04:52.431570+03:00',\n",
       "   'groups': [],\n",
       "   'user_permissions': []}},\n",
       " {'title': 'Сказки',\n",
       "  'text': 'Curabitur rhoncus ex nec turpis fringilla, sodales volutpat nisi hendrerit. Morbi ultricies, mauris sit amet pretium vehicula, purus nisi mollis arcu, ut condimentum libero libero at enim. Praesent ullamcorper quam eu quam sollicitudin, vitae pharetra ex fringilla. Donec dictum, tellus eu rhoncus rutrum, ex massa lobortis orci, eget commodo nisi ex non risus. Duis sagittis velit nec erat vestibulum, vitae feugiat elit lobortis. Donec pulvinar arcu lacus, eu tincidunt elit gravida in. Nunc tempus sem lectus, vitae lacinia diam sollicitudin eu. Aliquam eu est eu arcu imperdiet consectetur. Nunc non neque euismod, ultrices neque eu, lobortis augue. Aliquam scelerisque erat eget magna varius venenatis. Suspendisse pharetra tempor quam, at dictum diam tempus nec. Cras facilisis nec quam eget malesuada. Sed libero nisi, ultrices sit amet tempor a, bibendum id magna. Morbi blandit leo at porttitor pharetra. Vestibulum scelerisque a sapien id feugiat.\\r\\n\\r\\nNulla vitae ultricies elit. Phasellus venenatis interdum convallis. Quisque rutrum viverra tempor. Mauris tempor, libero rhoncus volutpat fermentum, mauris neque congue massa, in scelerisque urna erat id velit. Etiam eu elementum lorem. Curabitur ultrices ligula neque, a tincidunt tortor maximus quis. Nullam faucibus, neque ut porttitor malesuada, elit dui iaculis sapien, ut condimentum ex arcu nec ante. Vivamus ac metus vel diam efficitur lobortis ut id tellus. Sed turpis eros, volutpat non velit vel, cursus sagittis dui. Curabitur et metus ac velit porta suscipit.',\n",
       "  'img': None,\n",
       "  'my_custom_field': 'Curabitur  hello',\n",
       "  'author': {'id': 2,\n",
       "   'password': 'pbkdf2_sha256$260000$SuCoe4bknx5Q2nha4xD0zB$uJd6KBP0xgEorvNvGwY7s4v8vPmrVrg/QHdPmzo/c14=',\n",
       "   'last_login': '2021-06-10T16:08:27.800329+03:00',\n",
       "   'is_superuser': False,\n",
       "   'username': 'Egor',\n",
       "   'first_name': 'Егор',\n",
       "   'last_name': 'Егоров',\n",
       "   'email': 'egor@egor.ru',\n",
       "   'is_staff': False,\n",
       "   'is_active': True,\n",
       "   'date_joined': '2021-05-31T00:02:44+03:00',\n",
       "   'groups': [],\n",
       "   'user_permissions': []}},\n",
       " {'title': 'New_book',\n",
       "  'text': 'Cras dapibus felis erat, sit amet elementum orci scelerisque non. Mauris vitae vulputate erat, sed dapibus arcu. Aliquam mollis porta sollicitudin. Aenean ornare tortor porta consectetur mollis. Praesent sit amet ultrices leo. Aenean rutrum malesuada nulla luctus lobortis. Duis enim lorem, molestie in rutrum vel, varius ac leo. Maecenas porttitor massa et leo gravida, et placerat ipsum ultrices. Fusce vestibulum eget ipsum at dignissim.\\r\\n\\r\\nSed luctus congue odio. Nullam ullamcorper sit amet purus ut commodo. Aenean condimentum sollicitudin fringilla. Vestibulum sit amet molestie purus. Donec pharetra sit amet tortor sed suscipit. Nunc finibus risus condimentum sem malesuada viverra. Quisque felis lacus, vulputate ac arcu eu, lacinia fringilla nulla. Maecenas ac iaculis libero, et semper felis. Maecenas sed gravida lectus. In purus nulla, interdum sed lacus a, euismod tristique libero.\\r\\n\\r\\nNam finibus consectetur justo sit amet rutrum. Quisque convallis lorem sed suscipit blandit. Vivamus gravida ante et vestibulum molestie. Etiam quis ligula leo. Phasellus elementum velit in eros vehicula imperdiet. Phasellus tempus feugiat elit. Sed porttitor vestibulum vestibulum. Nunc ornare dapibus turpis, sit amet sagittis felis vehicula non. Sed venenatis, tortor ut fringilla gravida, ex dolor maximus tortor, quis semper eros mauris non ante.',\n",
       "  'img': 'http://127.0.0.1:8000/media/book_shop/New_book/2021/06/08/36693.orsu9c.300.jpg',\n",
       "  'my_custom_field': 'Cras dapib hello',\n",
       "  'author': {'id': 3,\n",
       "   'password': 'pbkdf2_sha256$260000$aQIf5dJqEhj6uEP7eTELb4$XcTbprLnKDknlv9xakZJNZD2Rn9y7hLp8PJkHvLZNw4=',\n",
       "   'last_login': '2021-06-10T16:03:40+03:00',\n",
       "   'is_superuser': False,\n",
       "   'username': 'Maksim',\n",
       "   'first_name': 'Максим',\n",
       "   'last_name': 'Максимов',\n",
       "   'email': 'maksim@maksim.ru',\n",
       "   'is_staff': False,\n",
       "   'is_active': True,\n",
       "   'date_joined': '2021-05-31T00:03:11+03:00',\n",
       "   'groups': [],\n",
       "   'user_permissions': []}}]"
      ]
     },
     "execution_count": 20,
     "metadata": {},
     "output_type": "execute_result"
    }
   ],
   "source": [
    "url = 'http://127.0.0.1:8000/shop/show_all_books/'\n",
    "requests.get(url, auth=('admin', '123')).json()\n",
    "# При передаче логина и пароля в auth они зашифровываются и передаются в хедере запроса"
   ]
  },
  {
   "cell_type": "code",
   "execution_count": 26,
   "metadata": {},
   "outputs": [
    {
     "data": {
      "text/plain": [
       "'YWRtaW46MTIz'"
      ]
     },
     "execution_count": 26,
     "metadata": {},
     "output_type": "execute_result"
    }
   ],
   "source": [
    "# Создание хереда с шифрованными логином и паролем вручную\n",
    "import requests\n",
    "import base64\n",
    "\n",
    "url = 'http://127.0.0.1:8000/shop/show_all_books/'\n",
    "\n",
    "key = base64.b64encode(b\"admin:123\").decode()\n",
    "key"
   ]
  },
  {
   "cell_type": "code",
   "execution_count": 27,
   "metadata": {
    "scrolled": true
   },
   "outputs": [
    {
     "data": {
      "text/plain": [
       "[{'title': 'Кораблики',\n",
       "  'text': 'Lorem ipsum dolor sit amet, consectetur adipiscing elit. Mauris efficitur suscipit dolor eget imperdiet. Donec eget nisl a mauris bibendum fringilla. Donec ut leo magna. Aenean sit amet mauris velit. Sed rhoncus ullamcorper diam eu lobortis. Fusce nec rutrum urna. Maecenas vitae mi eget nisi luctus laoreet. Pellentesque elit arcu, sodales et elit eu, dignissim faucibus neque. Orci varius natoque penatibus et magnis dis parturient montes, nascetur ridiculus mus. Ut molestie gravida diam pharetra dapibus. Maecenas sagittis scelerisque sapien vitae posuere.\\r\\n\\r\\nMauris in tincidunt lectus. Nulla pellentesque cursus fermentum. Phasellus sed faucibus lorem. Donec molestie gravida augue, in gravida nulla suscipit in. Mauris maximus ornare neque. Nunc laoreet ligula ac lobortis vehicula. Proin suscipit lobortis venenatis. Vestibulum finibus orci a augue bibendum congue.\\r\\n\\r\\nSed malesuada vitae augue ut egestas. Maecenas elit tortor, pulvinar ut sem sed, sodales lobortis dolor. Donec sem ligula, tristique vel imperdiet id, bibendum non justo. Nam ac aliquam lorem. Ut vel ipsum orci. Nulla mi diam, molestie placerat nunc ut, rutrum molestie tortor. Praesent maximus aliquet congue. Donec vitae venenatis lacus. Nunc sit amet turpis interdum, sodales nulla eget, pulvinar leo. Duis malesuada at ipsum at ultricies. Pellentesque varius ipsum eget dignissim dictum. Aliquam erat volutpat. Praesent porttitor enim vel tempus tempus.',\n",
       "  'img': 'http://127.0.0.1:8000/media/book_shop/%D0%9A%D0%BE%D1%80%D0%B0%D0%B1%D0%BB%D0%B8%D0%BA%D0%B8/2021/06/08/2-5.jpg',\n",
       "  'my_custom_field': 'Lorem ipsu hello',\n",
       "  'author': {'id': 5,\n",
       "   'password': 'pbkdf2_sha256$260000$lE3yVdHKWKB8aZBFf7Zl0d$DSSqTm2dR8rPfxZgdiJ7ohC9xoChgkoA3tM/ueg+2uY=',\n",
       "   'last_login': None,\n",
       "   'is_superuser': False,\n",
       "   'username': 'Alex',\n",
       "   'first_name': '',\n",
       "   'last_name': '',\n",
       "   'email': '',\n",
       "   'is_staff': False,\n",
       "   'is_active': True,\n",
       "   'date_joined': '2021-05-31T00:04:52.431570+03:00',\n",
       "   'groups': [],\n",
       "   'user_permissions': []}},\n",
       " {'title': 'Сказки',\n",
       "  'text': 'Curabitur rhoncus ex nec turpis fringilla, sodales volutpat nisi hendrerit. Morbi ultricies, mauris sit amet pretium vehicula, purus nisi mollis arcu, ut condimentum libero libero at enim. Praesent ullamcorper quam eu quam sollicitudin, vitae pharetra ex fringilla. Donec dictum, tellus eu rhoncus rutrum, ex massa lobortis orci, eget commodo nisi ex non risus. Duis sagittis velit nec erat vestibulum, vitae feugiat elit lobortis. Donec pulvinar arcu lacus, eu tincidunt elit gravida in. Nunc tempus sem lectus, vitae lacinia diam sollicitudin eu. Aliquam eu est eu arcu imperdiet consectetur. Nunc non neque euismod, ultrices neque eu, lobortis augue. Aliquam scelerisque erat eget magna varius venenatis. Suspendisse pharetra tempor quam, at dictum diam tempus nec. Cras facilisis nec quam eget malesuada. Sed libero nisi, ultrices sit amet tempor a, bibendum id magna. Morbi blandit leo at porttitor pharetra. Vestibulum scelerisque a sapien id feugiat.\\r\\n\\r\\nNulla vitae ultricies elit. Phasellus venenatis interdum convallis. Quisque rutrum viverra tempor. Mauris tempor, libero rhoncus volutpat fermentum, mauris neque congue massa, in scelerisque urna erat id velit. Etiam eu elementum lorem. Curabitur ultrices ligula neque, a tincidunt tortor maximus quis. Nullam faucibus, neque ut porttitor malesuada, elit dui iaculis sapien, ut condimentum ex arcu nec ante. Vivamus ac metus vel diam efficitur lobortis ut id tellus. Sed turpis eros, volutpat non velit vel, cursus sagittis dui. Curabitur et metus ac velit porta suscipit.',\n",
       "  'img': None,\n",
       "  'my_custom_field': 'Curabitur  hello',\n",
       "  'author': {'id': 2,\n",
       "   'password': 'pbkdf2_sha256$260000$SuCoe4bknx5Q2nha4xD0zB$uJd6KBP0xgEorvNvGwY7s4v8vPmrVrg/QHdPmzo/c14=',\n",
       "   'last_login': '2021-06-10T16:08:27.800329+03:00',\n",
       "   'is_superuser': False,\n",
       "   'username': 'Egor',\n",
       "   'first_name': 'Егор',\n",
       "   'last_name': 'Егоров',\n",
       "   'email': 'egor@egor.ru',\n",
       "   'is_staff': False,\n",
       "   'is_active': True,\n",
       "   'date_joined': '2021-05-31T00:02:44+03:00',\n",
       "   'groups': [],\n",
       "   'user_permissions': []}},\n",
       " {'title': 'New_book',\n",
       "  'text': 'Cras dapibus felis erat, sit amet elementum orci scelerisque non. Mauris vitae vulputate erat, sed dapibus arcu. Aliquam mollis porta sollicitudin. Aenean ornare tortor porta consectetur mollis. Praesent sit amet ultrices leo. Aenean rutrum malesuada nulla luctus lobortis. Duis enim lorem, molestie in rutrum vel, varius ac leo. Maecenas porttitor massa et leo gravida, et placerat ipsum ultrices. Fusce vestibulum eget ipsum at dignissim.\\r\\n\\r\\nSed luctus congue odio. Nullam ullamcorper sit amet purus ut commodo. Aenean condimentum sollicitudin fringilla. Vestibulum sit amet molestie purus. Donec pharetra sit amet tortor sed suscipit. Nunc finibus risus condimentum sem malesuada viverra. Quisque felis lacus, vulputate ac arcu eu, lacinia fringilla nulla. Maecenas ac iaculis libero, et semper felis. Maecenas sed gravida lectus. In purus nulla, interdum sed lacus a, euismod tristique libero.\\r\\n\\r\\nNam finibus consectetur justo sit amet rutrum. Quisque convallis lorem sed suscipit blandit. Vivamus gravida ante et vestibulum molestie. Etiam quis ligula leo. Phasellus elementum velit in eros vehicula imperdiet. Phasellus tempus feugiat elit. Sed porttitor vestibulum vestibulum. Nunc ornare dapibus turpis, sit amet sagittis felis vehicula non. Sed venenatis, tortor ut fringilla gravida, ex dolor maximus tortor, quis semper eros mauris non ante.',\n",
       "  'img': 'http://127.0.0.1:8000/media/book_shop/New_book/2021/06/08/36693.orsu9c.300.jpg',\n",
       "  'my_custom_field': 'Cras dapib hello',\n",
       "  'author': {'id': 3,\n",
       "   'password': 'pbkdf2_sha256$260000$aQIf5dJqEhj6uEP7eTELb4$XcTbprLnKDknlv9xakZJNZD2Rn9y7hLp8PJkHvLZNw4=',\n",
       "   'last_login': '2021-06-10T16:03:40+03:00',\n",
       "   'is_superuser': False,\n",
       "   'username': 'Maksim',\n",
       "   'first_name': 'Максим',\n",
       "   'last_name': 'Максимов',\n",
       "   'email': 'maksim@maksim.ru',\n",
       "   'is_staff': False,\n",
       "   'is_active': True,\n",
       "   'date_joined': '2021-05-31T00:03:11+03:00',\n",
       "   'groups': [],\n",
       "   'user_permissions': []}}]"
      ]
     },
     "execution_count": 27,
     "metadata": {},
     "output_type": "execute_result"
    }
   ],
   "source": [
    "header = {\"Authorization\": f\"Basic {key}\"}\n",
    "\n",
    "requests.get(url, headers=header).json()"
   ]
  },
  {
   "cell_type": "code",
   "execution_count": null,
   "metadata": {},
   "outputs": [],
   "source": [
    "# Token authentication"
   ]
  },
  {
   "cell_type": "code",
   "execution_count": 31,
   "metadata": {
    "scrolled": true
   },
   "outputs": [
    {
     "data": {
      "text/plain": [
       "[{'title': 'Кораблики',\n",
       "  'text': 'Lorem ipsum dolor sit amet, consectetur adipiscing elit. Mauris efficitur suscipit dolor eget imperdiet. Donec eget nisl a mauris bibendum fringilla. Donec ut leo magna. Aenean sit amet mauris velit. Sed rhoncus ullamcorper diam eu lobortis. Fusce nec rutrum urna. Maecenas vitae mi eget nisi luctus laoreet. Pellentesque elit arcu, sodales et elit eu, dignissim faucibus neque. Orci varius natoque penatibus et magnis dis parturient montes, nascetur ridiculus mus. Ut molestie gravida diam pharetra dapibus. Maecenas sagittis scelerisque sapien vitae posuere.\\r\\n\\r\\nMauris in tincidunt lectus. Nulla pellentesque cursus fermentum. Phasellus sed faucibus lorem. Donec molestie gravida augue, in gravida nulla suscipit in. Mauris maximus ornare neque. Nunc laoreet ligula ac lobortis vehicula. Proin suscipit lobortis venenatis. Vestibulum finibus orci a augue bibendum congue.\\r\\n\\r\\nSed malesuada vitae augue ut egestas. Maecenas elit tortor, pulvinar ut sem sed, sodales lobortis dolor. Donec sem ligula, tristique vel imperdiet id, bibendum non justo. Nam ac aliquam lorem. Ut vel ipsum orci. Nulla mi diam, molestie placerat nunc ut, rutrum molestie tortor. Praesent maximus aliquet congue. Donec vitae venenatis lacus. Nunc sit amet turpis interdum, sodales nulla eget, pulvinar leo. Duis malesuada at ipsum at ultricies. Pellentesque varius ipsum eget dignissim dictum. Aliquam erat volutpat. Praesent porttitor enim vel tempus tempus.',\n",
       "  'img': 'http://127.0.0.1:8000/media/book_shop/%D0%9A%D0%BE%D1%80%D0%B0%D0%B1%D0%BB%D0%B8%D0%BA%D0%B8/2021/06/08/2-5.jpg',\n",
       "  'my_custom_field': 'Lorem ipsu hello',\n",
       "  'author': {'id': 5,\n",
       "   'password': 'pbkdf2_sha256$260000$lE3yVdHKWKB8aZBFf7Zl0d$DSSqTm2dR8rPfxZgdiJ7ohC9xoChgkoA3tM/ueg+2uY=',\n",
       "   'last_login': None,\n",
       "   'is_superuser': False,\n",
       "   'username': 'Alex',\n",
       "   'first_name': '',\n",
       "   'last_name': '',\n",
       "   'email': '',\n",
       "   'is_staff': False,\n",
       "   'is_active': True,\n",
       "   'date_joined': '2021-05-31T00:04:52.431570+03:00',\n",
       "   'groups': [],\n",
       "   'user_permissions': []}},\n",
       " {'title': 'Сказки',\n",
       "  'text': 'Curabitur rhoncus ex nec turpis fringilla, sodales volutpat nisi hendrerit. Morbi ultricies, mauris sit amet pretium vehicula, purus nisi mollis arcu, ut condimentum libero libero at enim. Praesent ullamcorper quam eu quam sollicitudin, vitae pharetra ex fringilla. Donec dictum, tellus eu rhoncus rutrum, ex massa lobortis orci, eget commodo nisi ex non risus. Duis sagittis velit nec erat vestibulum, vitae feugiat elit lobortis. Donec pulvinar arcu lacus, eu tincidunt elit gravida in. Nunc tempus sem lectus, vitae lacinia diam sollicitudin eu. Aliquam eu est eu arcu imperdiet consectetur. Nunc non neque euismod, ultrices neque eu, lobortis augue. Aliquam scelerisque erat eget magna varius venenatis. Suspendisse pharetra tempor quam, at dictum diam tempus nec. Cras facilisis nec quam eget malesuada. Sed libero nisi, ultrices sit amet tempor a, bibendum id magna. Morbi blandit leo at porttitor pharetra. Vestibulum scelerisque a sapien id feugiat.\\r\\n\\r\\nNulla vitae ultricies elit. Phasellus venenatis interdum convallis. Quisque rutrum viverra tempor. Mauris tempor, libero rhoncus volutpat fermentum, mauris neque congue massa, in scelerisque urna erat id velit. Etiam eu elementum lorem. Curabitur ultrices ligula neque, a tincidunt tortor maximus quis. Nullam faucibus, neque ut porttitor malesuada, elit dui iaculis sapien, ut condimentum ex arcu nec ante. Vivamus ac metus vel diam efficitur lobortis ut id tellus. Sed turpis eros, volutpat non velit vel, cursus sagittis dui. Curabitur et metus ac velit porta suscipit.',\n",
       "  'img': None,\n",
       "  'my_custom_field': 'Curabitur  hello',\n",
       "  'author': {'id': 2,\n",
       "   'password': 'pbkdf2_sha256$260000$SuCoe4bknx5Q2nha4xD0zB$uJd6KBP0xgEorvNvGwY7s4v8vPmrVrg/QHdPmzo/c14=',\n",
       "   'last_login': '2021-06-10T16:08:27.800329+03:00',\n",
       "   'is_superuser': False,\n",
       "   'username': 'Egor',\n",
       "   'first_name': 'Егор',\n",
       "   'last_name': 'Егоров',\n",
       "   'email': 'egor@egor.ru',\n",
       "   'is_staff': False,\n",
       "   'is_active': True,\n",
       "   'date_joined': '2021-05-31T00:02:44+03:00',\n",
       "   'groups': [],\n",
       "   'user_permissions': []}},\n",
       " {'title': 'New_book',\n",
       "  'text': 'Cras dapibus felis erat, sit amet elementum orci scelerisque non. Mauris vitae vulputate erat, sed dapibus arcu. Aliquam mollis porta sollicitudin. Aenean ornare tortor porta consectetur mollis. Praesent sit amet ultrices leo. Aenean rutrum malesuada nulla luctus lobortis. Duis enim lorem, molestie in rutrum vel, varius ac leo. Maecenas porttitor massa et leo gravida, et placerat ipsum ultrices. Fusce vestibulum eget ipsum at dignissim.\\r\\n\\r\\nSed luctus congue odio. Nullam ullamcorper sit amet purus ut commodo. Aenean condimentum sollicitudin fringilla. Vestibulum sit amet molestie purus. Donec pharetra sit amet tortor sed suscipit. Nunc finibus risus condimentum sem malesuada viverra. Quisque felis lacus, vulputate ac arcu eu, lacinia fringilla nulla. Maecenas ac iaculis libero, et semper felis. Maecenas sed gravida lectus. In purus nulla, interdum sed lacus a, euismod tristique libero.\\r\\n\\r\\nNam finibus consectetur justo sit amet rutrum. Quisque convallis lorem sed suscipit blandit. Vivamus gravida ante et vestibulum molestie. Etiam quis ligula leo. Phasellus elementum velit in eros vehicula imperdiet. Phasellus tempus feugiat elit. Sed porttitor vestibulum vestibulum. Nunc ornare dapibus turpis, sit amet sagittis felis vehicula non. Sed venenatis, tortor ut fringilla gravida, ex dolor maximus tortor, quis semper eros mauris non ante.',\n",
       "  'img': 'http://127.0.0.1:8000/media/book_shop/New_book/2021/06/08/36693.orsu9c.300.jpg',\n",
       "  'my_custom_field': 'Cras dapib hello',\n",
       "  'author': {'id': 3,\n",
       "   'password': 'pbkdf2_sha256$260000$aQIf5dJqEhj6uEP7eTELb4$XcTbprLnKDknlv9xakZJNZD2Rn9y7hLp8PJkHvLZNw4=',\n",
       "   'last_login': '2021-06-10T16:03:40+03:00',\n",
       "   'is_superuser': False,\n",
       "   'username': 'Maksim',\n",
       "   'first_name': 'Максим',\n",
       "   'last_name': 'Максимов',\n",
       "   'email': 'maksim@maksim.ru',\n",
       "   'is_staff': False,\n",
       "   'is_active': True,\n",
       "   'date_joined': '2021-05-31T00:03:11+03:00',\n",
       "   'groups': [],\n",
       "   'user_permissions': []}}]"
      ]
     },
     "execution_count": 31,
     "metadata": {},
     "output_type": "execute_result"
    }
   ],
   "source": [
    "token = '210e9e471a50891e7697219499037357e8538f4a'\n",
    "heder = {\"Authorization\": f\"Token {token}\"}\n",
    "requests.get(url, headers=header).json()"
   ]
  },
  {
   "cell_type": "code",
   "execution_count": null,
   "metadata": {},
   "outputs": [],
   "source": []
  },
  {
   "cell_type": "code",
   "execution_count": null,
   "metadata": {},
   "outputs": [],
   "source": []
  },
  {
   "cell_type": "code",
   "execution_count": null,
   "metadata": {},
   "outputs": [],
   "source": []
  }
 ],
 "metadata": {
  "kernelspec": {
   "display_name": "Python 3",
   "language": "python",
   "name": "python3"
  },
  "language_info": {
   "codemirror_mode": {
    "name": "ipython",
    "version": 3
   },
   "file_extension": ".py",
   "mimetype": "text/x-python",
   "name": "python",
   "nbconvert_exporter": "python",
   "pygments_lexer": "ipython3",
   "version": "3.8.5"
  }
 },
 "nbformat": 4,
 "nbformat_minor": 4
}
