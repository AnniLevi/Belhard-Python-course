{
 "cells": [
  {
   "cell_type": "code",
   "execution_count": 25,
   "metadata": {},
   "outputs": [],
   "source": [
    "from operator import itemgetter\n",
    "from itertools import groupby\n",
    "\n",
    "users = [\n",
    "    {\"name\":\"Ivan\", \"age\":12, \"group\": 1},\n",
    "    {\"name\":\"Gleb\", \"age\":12, \"group\": 1},\n",
    "    {\"name\":\"Uyval\", \"age\":15, \"group\": 2},\n",
    "    {\"name\":\"Grisha\", \"age\":15, \"group\": 1},\n",
    "    {\"name\":\"Evlampy\", \"age\":17, \"group\": 2},\n",
    "    {\"name\":\"Oded\", \"age\":17, \"group\": 2},\n",
    "    {\"name\":\"Adolf\", \"age\":19, \"group\": 1},\n",
    "    {\"name\":\"Felix\", \"age\":19, \"group\": 3},\n",
    "    {\"name\":\"Shachar\", \"age\":19, \"group\": 3},\n",
    "    {\"name\":\"Eyal\", \"age\":17, \"group\": 3},\n",
    "]\n",
    "\n",
    "\n",
    "\n"
   ]
  },
  {
   "cell_type": "code",
   "execution_count": 38,
   "metadata": {},
   "outputs": [
    {
     "data": {
      "text/plain": [
       "[[[{'name': 'Ivan', 'age': 12, 'group': 1},\n",
       "   {'name': 'Gleb', 'age': 12, 'group': 1}],\n",
       "  [{'name': 'Grisha', 'age': 15, 'group': 1}],\n",
       "  [{'name': 'Adolf', 'age': 19, 'group': 1}]],\n",
       " [[{'name': 'Uyval', 'age': 15, 'group': 2}],\n",
       "  [{'name': 'Evlampy', 'age': 17, 'group': 2},\n",
       "   {'name': 'Oded', 'age': 17, 'group': 2}]],\n",
       " [[{'name': 'Eyal', 'age': 17, 'group': 3}],\n",
       "  [{'name': 'Felix', 'age': 19, 'group': 3},\n",
       "   {'name': 'Shachar', 'age': 19, 'group': 3}]]]"
      ]
     },
     "execution_count": 38,
     "metadata": {},
     "output_type": "execute_result"
    }
   ],
   "source": [
    "keys = ['group', 'age']\n",
    "\n",
    "def grouping_by_r(arr, keys):\n",
    "    if len(keys) < 1:\n",
    "        return arr\n",
    "    key = itemgetter(keys[0])\n",
    "    arr.sort(key=key)\n",
    "    return [grouping_by_r(list(group[1]), keys[1:]) for group in groupby(iterable=arr, key=key)]\n",
    "\n",
    "grouping_by_r(users, keys)"
   ]
  }
 ],
 "metadata": {
  "kernelspec": {
   "display_name": "Python 3",
   "language": "python",
   "name": "python3"
  },
  "language_info": {
   "codemirror_mode": {
    "name": "ipython",
    "version": 3
   },
   "file_extension": ".py",
   "mimetype": "text/x-python",
   "name": "python",
   "nbconvert_exporter": "python",
   "pygments_lexer": "ipython3",
   "version": "3.8.5"
  }
 },
 "nbformat": 4,
 "nbformat_minor": 4
}
