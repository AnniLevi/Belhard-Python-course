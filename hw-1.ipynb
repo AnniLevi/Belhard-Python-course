{
 "cells": [
  {
   "cell_type": "markdown",
   "metadata": {},
   "source": [
    "№ 1\n",
    "---"
   ]
  },
  {
   "cell_type": "code",
   "execution_count": null,
   "metadata": {},
   "outputs": [],
   "source": [
    "# Программа принимает ввод от пользователя (число) и находит сумму первой и последней цифры этого числа."
   ]
  },
  {
   "cell_type": "code",
   "execution_count": 8,
   "metadata": {},
   "outputs": [
    {
     "name": "stdout",
     "output_type": "stream",
     "text": [
      "Enter the number:   896457412\n",
      "Sum of first and last digit: 10\n"
     ]
    }
   ],
   "source": [
    "number = input('Enter the number:   ')\n",
    "first_elem = int(number[0])\n",
    "last_elem = int(number[-1])\n",
    "sum = first_elem + last_elem\n",
    "print('Sum of first and last digit:', sum)"
   ]
  },
  {
   "cell_type": "markdown",
   "metadata": {},
   "source": [
    "№ 2\n",
    "---"
   ]
  },
  {
   "cell_type": "code",
   "execution_count": null,
   "metadata": {},
   "outputs": [],
   "source": [
    "# Программа принимает ввод от пользователя (число) и выводит является ли это число четным или не четным."
   ]
  },
  {
   "cell_type": "code",
   "execution_count": 6,
   "metadata": {},
   "outputs": [
    {
     "name": "stdout",
     "output_type": "stream",
     "text": [
      "Введите число:  56\n",
      "Число четное\n"
     ]
    }
   ],
   "source": [
    "number = int(input('Введите число:  '))\n",
    "if number % 2 == 0:\n",
    "    print('Число четное')\n",
    "else:\n",
    "    print('Число нечетное')"
   ]
  },
  {
   "cell_type": "markdown",
   "metadata": {},
   "source": [
    "№ 3\n",
    "---"
   ]
  },
  {
   "cell_type": "code",
   "execution_count": null,
   "metadata": {},
   "outputs": [],
   "source": [
    "# Программа принимает ввод от пользователя (число) и находит колличество цифр в этом числе."
   ]
  },
  {
   "cell_type": "code",
   "execution_count": 8,
   "metadata": {},
   "outputs": [
    {
     "name": "stdout",
     "output_type": "stream",
     "text": [
      "Введите число:  123456789\n",
      "Количество цифр в числе: 9\n"
     ]
    }
   ],
   "source": [
    "number = input('Введите число:  ')\n",
    "number_of_digits = len(number)\n",
    "print('Количество цифр в числе:', number_of_digits)"
   ]
  },
  {
   "cell_type": "markdown",
   "metadata": {},
   "source": [
    "№ 4\n",
    "---"
   ]
  },
  {
   "cell_type": "code",
   "execution_count": 4,
   "metadata": {},
   "outputs": [],
   "source": [
    "# Программа принимает ввод от пользователя (имя) , \n",
    "# приветствует его как админа если он админ (его имя входит строку имён админов) \n",
    "# приветствует его как дилера (если имя входит в строку имён дилеров) , \n",
    "# некоторые имена в строке админов и дилеров могут быть одинаковы."
   ]
  },
  {
   "cell_type": "code",
   "execution_count": 3,
   "metadata": {},
   "outputs": [
    {
     "name": "stdout",
     "output_type": "stream",
     "text": [
      "Enter your name:  aNNa\n",
      "Hello, admin Anna\n"
     ]
    }
   ],
   "source": [
    "admins = 'boris eugene maks anna bob kazimir'\n",
    "dilers = 'pitr maria eugene kate elena bob robin'\n",
    "name = input('Enter your name:  ')\n",
    "name = name.lower()\n",
    "if name in admins:\n",
    "    print('Hello, admin', name.title())\n",
    "if name in dilers:\n",
    "    print('Hello, diler', name.title())\n"
   ]
  },
  {
   "cell_type": "markdown",
   "metadata": {},
   "source": [
    "№ 5\n",
    "---"
   ]
  },
  {
   "cell_type": "code",
   "execution_count": null,
   "metadata": {},
   "outputs": [],
   "source": [
    "# Принять от пользователя две стороны четырехугольника и найти площадь и периметр."
   ]
  },
  {
   "cell_type": "code",
   "execution_count": 4,
   "metadata": {},
   "outputs": [
    {
     "name": "stdout",
     "output_type": "stream",
     "text": [
      "Enter the first side of rectangle:  3\n",
      "Enter the second side of rectangle:  4\n",
      "Perimetr of rectangle is 14 \n",
      "Area of rectangle is 12\n"
     ]
    }
   ],
   "source": [
    "side1 = int(input('Enter the first side of rectangle:  '))\n",
    "side2 = int(input('Enter the second side of rectangle:  '))\n",
    "perimetr = (side1 + side2) * 2\n",
    "area = side1 * side2\n",
    "print('Perimetr of rectangle is', perimetr, '\\nArea of rectangle is', area)"
   ]
  },
  {
   "cell_type": "markdown",
   "metadata": {},
   "source": [
    "№ 6\n",
    "---"
   ]
  },
  {
   "cell_type": "code",
   "execution_count": null,
   "metadata": {},
   "outputs": [],
   "source": [
    "# Принять от пользователя три стороны треугольника, проверить может ли такой треугольник существовать, если да то найти периметр"
   ]
  },
  {
   "cell_type": "code",
   "execution_count": 6,
   "metadata": {},
   "outputs": [
    {
     "name": "stdout",
     "output_type": "stream",
     "text": [
      "Enter the first side of triangle:  10\n",
      "Enter the second side of triangle:  12\n",
      "Enter the third side of triangle:  15\n",
      "Perimetr of triangle is 37\n"
     ]
    }
   ],
   "source": [
    "side1 = int(input('Enter the first side of triangle:  '))\n",
    "side2 = int(input('Enter the second side of triangle:  '))\n",
    "side3 = int(input('Enter the third side of triangle:  '))\n",
    "if side1 + side2 > side3 and side2 + side3 > side1 and side1 + side3 > side2:\n",
    "    perimetr = side1 + side2 + side3\n",
    "    print('Perimetr of triangle is', perimetr)\n",
    "else:\n",
    "    print('Such triangle cannot exist')"
   ]
  },
  {
   "cell_type": "code",
   "execution_count": null,
   "metadata": {},
   "outputs": [],
   "source": []
  },
  {
   "cell_type": "code",
   "execution_count": null,
   "metadata": {},
   "outputs": [],
   "source": []
  }
 ],
 "metadata": {
  "kernelspec": {
   "display_name": "Python 3",
   "language": "python",
   "name": "python3"
  },
  "language_info": {
   "codemirror_mode": {
    "name": "ipython",
    "version": 3
   },
   "file_extension": ".py",
   "mimetype": "text/x-python",
   "name": "python",
   "nbconvert_exporter": "python",
   "pygments_lexer": "ipython3",
   "version": "3.8.5"
  }
 },
 "nbformat": 4,
 "nbformat_minor": 4
}
