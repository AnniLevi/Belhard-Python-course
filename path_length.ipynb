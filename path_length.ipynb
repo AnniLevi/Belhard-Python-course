{
 "cells": [
  {
   "cell_type": "code",
   "execution_count": 1,
   "metadata": {},
   "outputs": [],
   "source": [
    "roads = {\n",
    "    \"A\":{\"B\":5, \"C\":8, \"D\":12, \"E\":76},\n",
    "    \"B\":{\"A\":1, \"C\":7, \"D\":13, \"E\":66},\n",
    "    \"C\":{\"B\":4, \"A\":9, \"D\":20, \"E\":49},\n",
    "    \"D\":{\"B\":2, \"C\":5, \"A\":43, \"E\":10},\n",
    "    \"E\":{\"B\":6, \"C\":53, \"D\":6, \"A\":60},\n",
    "}\n",
    "# Есть города A, B,C,D,E\n",
    "# между ними проложены дороги разной длины\n",
    "# из каждого города можно попасть в любой город\n",
    "# например расстояние от города А до города B 5 км а от города В до города А 1 км и так далее\n",
    "# вы должны написать функцию find_distance которая принимает один аргумент  way который например \n",
    "# равен \"ABACDBACABD\" и вы должны найти длину пути"
   ]
  },
  {
   "cell_type": "code",
   "execution_count": 2,
   "metadata": {},
   "outputs": [
    {
     "name": "stdout",
     "output_type": "stream",
     "text": [
      "72\n"
     ]
    }
   ],
   "source": [
    "# 1\n",
    "\n",
    "def find_distance(roads: dict, way: str) -> int:\n",
    "    length = 0\n",
    "    for index in range(len(way) - 1):\n",
    "        city, next_city = way[index], way[index + 1]\n",
    "        length += roads[city][next_city]\n",
    "    return length\n",
    "        \n",
    "print(find_distance(roads=roads, way=\"ABACDBACABD\"))"
   ]
  },
  {
   "cell_type": "code",
   "execution_count": 3,
   "metadata": {},
   "outputs": [
    {
     "name": "stdout",
     "output_type": "stream",
     "text": [
      "72\n"
     ]
    }
   ],
   "source": [
    "# 2 (с использованием itemgetter)\n",
    "\n",
    "from operator import itemgetter\n",
    "\n",
    "def find_distance(roads: dict, way: str) -> int:\n",
    "    length = 0\n",
    "    for index in range(len(way) - 1):\n",
    "        city, next_city = way[index], way[index + 1]\n",
    "        get_path = itemgetter(next_city)\n",
    "        length += get_path(roads[city])\n",
    "    return length\n",
    "\n",
    "print(find_distance(roads, \"ABACDBACABD\"))"
   ]
  },
  {
   "cell_type": "code",
   "execution_count": null,
   "metadata": {},
   "outputs": [],
   "source": []
  },
  {
   "cell_type": "code",
   "execution_count": null,
   "metadata": {},
   "outputs": [],
   "source": []
  },
  {
   "cell_type": "code",
   "execution_count": null,
   "metadata": {},
   "outputs": [],
   "source": []
  }
 ],
 "metadata": {
  "kernelspec": {
   "display_name": "Python 3",
   "language": "python",
   "name": "python3"
  },
  "language_info": {
   "codemirror_mode": {
    "name": "ipython",
    "version": 3
   },
   "file_extension": ".py",
   "mimetype": "text/x-python",
   "name": "python",
   "nbconvert_exporter": "python",
   "pygments_lexer": "ipython3",
   "version": "3.8.5"
  }
 },
 "nbformat": 4,
 "nbformat_minor": 4
}
