{
 "cells": [
  {
   "cell_type": "markdown",
   "metadata": {},
   "source": [
    "1. Дано натуральное число n>1. Проверьте, является ли оно простым. Программа должна вывести слово YES, если число простое и NO, если число составное."
   ]
  },
  {
   "cell_type": "code",
   "execution_count": 21,
   "metadata": {},
   "outputs": [
    {
     "data": {
      "text/plain": [
       "'YES'"
      ]
     },
     "execution_count": 21,
     "metadata": {},
     "output_type": "execute_result"
    }
   ],
   "source": [
    "def isprime(number: int, divisor=2) -> str:\n",
    "    if number % divisor:\n",
    "        return isprime(number, divisor + 1)\n",
    "    if divisor > number ** 0.5:\n",
    "        return 'YES'\n",
    "    return 'NO'\n",
    "        \n",
    "isprime(23)"
   ]
  },
  {
   "cell_type": "markdown",
   "metadata": {},
   "source": [
    "2. Дано натуральное число n>1. Выведите все простые делители этого числа "
   ]
  },
  {
   "cell_type": "code",
   "execution_count": 22,
   "metadata": {},
   "outputs": [
    {
     "data": {
      "text/plain": [
       "[5, 2]"
      ]
     },
     "execution_count": 22,
     "metadata": {},
     "output_type": "execute_result"
    }
   ],
   "source": [
    "def prime_divisors(number: int, divisor=2) -> list:\n",
    "    if divisor >= number:\n",
    "        return []\n",
    "    result = prime_divisors(number, divisor + 1)\n",
    "    if not number % divisor:\n",
    "        if isprime(divisor) == 'YES':\n",
    "            result.append(divisor)\n",
    "    return result\n",
    "\n",
    "\n",
    "prime_divisors(100)"
   ]
  },
  {
   "cell_type": "markdown",
   "metadata": {},
   "source": [
    "3. Дана последовательность натуральных чисел, завершающаяся числом 0. Выведите все нечетные числа из этой последовательности, сохраняя их порядок."
   ]
  },
  {
   "cell_type": "code",
   "execution_count": 23,
   "metadata": {},
   "outputs": [
    {
     "name": "stdout",
     "output_type": "stream",
     "text": [
      "[9, 7, 5, 3, 1]\n"
     ]
    }
   ],
   "source": [
    "def odd_numbers(sequence: list) -> list:\n",
    "    if len(sequence) == 0:\n",
    "        return []\n",
    "    result = odd_numbers(sequence[:-1])\n",
    "    new_item = sequence[-1]\n",
    "    if new_item not in result and new_item % 2:\n",
    "        result.append(new_item)\n",
    "    return result\n",
    "        \n",
    "print(odd_numbers([9,8,7,6,5,4,3,2,1,0]))"
   ]
  },
  {
   "cell_type": "markdown",
   "metadata": {},
   "source": [
    "4. Дано натуральное число N. Выведите слово YES, если число N является точной степенью двойки, или слово NO в противном случае."
   ]
  },
  {
   "cell_type": "code",
   "execution_count": 24,
   "metadata": {},
   "outputs": [
    {
     "data": {
      "text/plain": [
       "'YES'"
      ]
     },
     "execution_count": 24,
     "metadata": {},
     "output_type": "execute_result"
    }
   ],
   "source": [
    "def ispower(number: int, power=1) -> str:\n",
    "    if number > 2 ** power:\n",
    "        return ispower(number, power + 1)\n",
    "    if 2 ** power == number:\n",
    "        return 'YES'\n",
    "    return 'NO'   \n",
    "\n",
    "ispower(32)"
   ]
  },
  {
   "cell_type": "markdown",
   "metadata": {},
   "source": [
    "5. Дано натуральное число n>1. Выведите все множители этого числа"
   ]
  },
  {
   "cell_type": "code",
   "execution_count": 25,
   "metadata": {},
   "outputs": [
    {
     "data": {
      "text/plain": [
       "[5, 5, 2, 2]"
      ]
     },
     "execution_count": 25,
     "metadata": {},
     "output_type": "execute_result"
    }
   ],
   "source": [
    "def multipliers(number: int) -> list:\n",
    "    if number <= 1:\n",
    "        return []\n",
    "    divisor = 2\n",
    "    while number % divisor and divisor < number:\n",
    "        divisor += 1\n",
    "    new_item = number // divisor\n",
    "    result = multipliers(new_item)\n",
    "    result.append(divisor)\n",
    "    return result\n",
    "    \n",
    "\n",
    "multipliers(100)"
   ]
  },
  {
   "cell_type": "code",
   "execution_count": null,
   "metadata": {},
   "outputs": [],
   "source": [
    "# простые множители числа 100: 2, 2, 5, 5\n",
    "# делители числа 100: 50, 25, 20, 10, 5, 4, 2"
   ]
  }
 ],
 "metadata": {
  "kernelspec": {
   "display_name": "Python 3",
   "language": "python",
   "name": "python3"
  },
  "language_info": {
   "codemirror_mode": {
    "name": "ipython",
    "version": 3
   },
   "file_extension": ".py",
   "mimetype": "text/x-python",
   "name": "python",
   "nbconvert_exporter": "python",
   "pygments_lexer": "ipython3",
   "version": "3.8.5"
  }
 },
 "nbformat": 4,
 "nbformat_minor": 4
}
