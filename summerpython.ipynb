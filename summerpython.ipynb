{
 "cells": [
  {
   "cell_type": "code",
   "execution_count": null,
   "metadata": {},
   "outputs": [],
   "source": [
    "# 5\n",
    "# Black Box (str -> int)\n",
    "# The Matrix -> 2\n",
    "# The truth is out there -> 5\n",
    "# Ты заходи, если что! -> 4\n",
    "\n",
    "(lambda string: len(string.split(' ')))('The truth is out there')"
   ]
  },
  {
   "cell_type": "code",
   "execution_count": null,
   "metadata": {},
   "outputs": [],
   "source": [
    "# 6\n",
    "# Black Box (str -> str)\n",
    "# Game of Thrones -> Game\n",
    "# Hello world -> Hello\n",
    "\n",
    "lambda string: string.split(' ')[0]"
   ]
  },
  {
   "cell_type": "code",
   "execution_count": null,
   "metadata": {},
   "outputs": [],
   "source": [
    "# 7\n",
    "# Black Box (str -> int)\n",
    "# abcA -> 3\n",
    "# ASDFasdfrt -> 6\n",
    "\n",
    "lambda row: len([letter for letter in row if letter.islower()])"
   ]
  },
  {
   "cell_type": "code",
   "execution_count": null,
   "metadata": {},
   "outputs": [],
   "source": [
    "# 8\n",
    "# Black Box (str -> int)\n",
    "# abbAc -> 2\n",
    "# Hello, hello -> 4\n",
    "# One -> 2\n",
    "# Ten -> 1\n",
    "\n",
    "(lambda row: len([letter for letter in row if letter.lower() in \"aiouey\"]))(\"One\")"
   ]
  },
  {
   "cell_type": "code",
   "execution_count": null,
   "metadata": {},
   "outputs": [],
   "source": [
    "# 9\n",
    "# Black Box (str -> bool)\n",
    "# abba -> True\n",
    "# abbat -> False\n",
    "# detartrated -> True\n",
    "# redivider -> True\n",
    "# redivide -> False\n",
    "\n",
    "lambda row: row == row[::-1]"
   ]
  },
  {
   "cell_type": "code",
   "execution_count": null,
   "metadata": {},
   "outputs": [],
   "source": [
    "# 10\n",
    "# Black Box (str -> bool)\n",
    "# hello -> True\n",
    "# world -> False\n",
    "# Happen -> True\n",
    "# Gg -> True\n",
    "# Hi!! -> False\n",
    "# 88f -> False\n",
    "\n",
    "lambda row: bool([letter for letter in row.lower() if letter.isalpha() and row.lower().count(letter) > 1])"
   ]
  },
  {
   "cell_type": "code",
   "execution_count": 5,
   "metadata": {},
   "outputs": [
    {
     "data": {
      "text/plain": [
       "125"
      ]
     },
     "execution_count": 5,
     "metadata": {},
     "output_type": "execute_result"
    }
   ],
   "source": [
    "# 11\n",
    "# Black Box (int -> int)\n",
    "# 2 -> 4\n",
    "# 3 -> 27\n",
    "# 5 -> 125\n",
    "# 6 -> 36\n",
    "# 10 -> 100\n",
    "\n",
    "(lambda x: x ** 3 if x % 2 else x ** 2)(5)"
   ]
  },
  {
   "cell_type": "code",
   "execution_count": null,
   "metadata": {},
   "outputs": [],
   "source": [
    "# 12\n",
    "# Black Box (list -> int)\n",
    "# [1, 2, 3] -> 6\n",
    "# [-5, 10, 20, 0] -> 25\n",
    "# [100, 500, 900] -> 1500\n",
    "\n",
    "lambda arr: sum(arr)"
   ]
  },
  {
   "cell_type": "code",
   "execution_count": null,
   "metadata": {},
   "outputs": [],
   "source": [
    "# 13\n",
    "# Black Box (list -> int)\n",
    "# [1, 2, 3] -> 3\n",
    "# [-5, 10, 20, 0] -> 20\n",
    "# [100, 500] -> 500\n",
    "\n",
    "lambda arr: arr[2] if len(arr) >= 3 else arr[-1]"
   ]
  },
  {
   "cell_type": "code",
   "execution_count": null,
   "metadata": {},
   "outputs": [],
   "source": [
    "# 14\n",
    "# Black Box (str -> str)\n",
    "# A -> a\n",
    "# Hi -> hi\n",
    "# SuMMeR -> summer\n",
    "# GoOd IdEa -> good idea\n",
    "\n",
    "lambda row: row.lower()"
   ]
  },
  {
   "cell_type": "code",
   "execution_count": null,
   "metadata": {},
   "outputs": [],
   "source": [
    "# 15\n",
    "# Black Box (str -> str)\n",
    "# AGT -> TCA\n",
    "# AATGC -> TTACG\n",
    "# TTTATGCCC -> AAATACGGG\n",
    "\n",
    "lambda row: ''.join([{'A':'T', 'G':'C', 'T': 'A', 'C': 'G'}[letter] for letter in row])"
   ]
  },
  {
   "cell_type": "code",
   "execution_count": null,
   "metadata": {},
   "outputs": [],
   "source": [
    "# 16\n",
    "# Black Box (str -> int)\n",
    "# a -> 1\n",
    "# b -> 2\n",
    "# d -> 4\n",
    "# k -> 11\n",
    "# z -> 26\n",
    "\n",
    "lambda letter: 'abcdifghijklmnopqrstuvwxyz'.index(letter) + 1"
   ]
  },
  {
   "cell_type": "code",
   "execution_count": null,
   "metadata": {},
   "outputs": [],
   "source": [
    "17\n",
    "Black Box (str -> int)\n",
    "a -> 1\n",
    "B -> 2\n",
    "d -> 4\n",
    "L -> 12\n",
    "Z -> 26\n",
    "\n",
    "lambda letter: 'abcdifghijklmnopqrstuvwxyz'.index(letter.lower()) + 1"
   ]
  },
  {
   "cell_type": "code",
   "execution_count": null,
   "metadata": {},
   "outputs": [],
   "source": [
    "# 18\n",
    "# Black Box (int -> str)\n",
    "# 2 -> 10\n",
    "# 3 -> 11\n",
    "# 10 -> 1010\n",
    "# 100 -> 1100100\n",
    "\n",
    "lambda number: bin(number)[2:]"
   ]
  },
  {
   "cell_type": "code",
   "execution_count": null,
   "metadata": {},
   "outputs": [],
   "source": [
    "# 19\n",
    "# Black Box (int -> int)\n",
    "# 2 -> 1\n",
    "# 3 -> 2\n",
    "# 10 -> 2\n",
    "# 100 -> 3\n",
    "\n",
    "lambda number: sum([int(n) for n in bin(number)[2:]])"
   ]
  },
  {
   "cell_type": "code",
   "execution_count": null,
   "metadata": {},
   "outputs": [],
   "source": [
    "# 20\n",
    "# Black Box (str -> str)\n",
    "# a -> *\n",
    "# Abc -> ***\n",
    "# hello -> *****\n",
    "# Hi, Friend -> **********\n",
    "# You and Me -> **********\n",
    "\n",
    "lambda row: '*' * len(row)"
   ]
  },
  {
   "cell_type": "code",
   "execution_count": null,
   "metadata": {},
   "outputs": [],
   "source": []
  },
  {
   "cell_type": "code",
   "execution_count": null,
   "metadata": {},
   "outputs": [],
   "source": []
  },
  {
   "cell_type": "code",
   "execution_count": null,
   "metadata": {},
   "outputs": [],
   "source": []
  },
  {
   "cell_type": "code",
   "execution_count": null,
   "metadata": {},
   "outputs": [],
   "source": []
  }
 ],
 "metadata": {
  "kernelspec": {
   "display_name": "Python 3",
   "language": "python",
   "name": "python3"
  },
  "language_info": {
   "codemirror_mode": {
    "name": "ipython",
    "version": 3
   },
   "file_extension": ".py",
   "mimetype": "text/x-python",
   "name": "python",
   "nbconvert_exporter": "python",
   "pygments_lexer": "ipython3",
   "version": "3.8.5"
  }
 },
 "nbformat": 4,
 "nbformat_minor": 4
}
