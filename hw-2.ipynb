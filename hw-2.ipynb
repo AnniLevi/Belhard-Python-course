{
 "cells": [
  {
   "cell_type": "markdown",
   "metadata": {},
   "source": [
    "№ 1. принять от пользователя ввод (int) и найти все простые числа до введенного пользователем числа"
   ]
  },
  {
   "cell_type": "code",
   "execution_count": 1,
   "metadata": {},
   "outputs": [
    {
     "name": "stdout",
     "output_type": "stream",
     "text": [
      "Enter the number:  200\n",
      "[2, 3, 5, 7, 11, 13, 17, 19, 23, 29, 31, 37, 41, 43, 47, 53, 59, 61, 67, 71, 73, 79, 83, 89, 97, 101, 103, 107, 109, 113, 127, 131, 137, 139, 149, 151, 157, 163, 167, 173, 179, 181, 191, 193, 197, 199]\n"
     ]
    }
   ],
   "source": [
    "user_number = int(input('Enter the number:  '))\n",
    "prime_numbers = []\n",
    "for number in range(2, user_number + 1):\n",
    "    for digit in range(2, number):\n",
    "        if number % digit == 0:\n",
    "            break\n",
    "    else:\n",
    "        prime_numbers.append(number)\n",
    "print(prime_numbers)"
   ]
  },
  {
   "cell_type": "code",
   "execution_count": null,
   "metadata": {},
   "outputs": [],
   "source": [
    "# another variant:"
   ]
  },
  {
   "cell_type": "code",
   "execution_count": 2,
   "metadata": {},
   "outputs": [
    {
     "name": "stdout",
     "output_type": "stream",
     "text": [
      "Enter the number:  200\n",
      "[2, 3, 5, 7, 11, 13, 17, 19, 23, 29, 31, 37, 41, 43, 47, 53, 59, 61, 67, 71, 73, 79, 83, 89, 97, 101, 103, 107, 109, 113, 127, 131, 137, 139, 149, 151, 157, 163, 167, 173, 179, 181, 191, 193, 197, 199]\n"
     ]
    }
   ],
   "source": [
    "user_number = int(input('Enter the number:  '))\n",
    "prime_numbers = []\n",
    "for number in range(2, user_number + 1):\n",
    "    for prime in prime_numbers:\n",
    "        if number % prime == 0:\n",
    "            break\n",
    "    else:\n",
    "        prime_numbers.append(number)\n",
    "print(prime_numbers)"
   ]
  },
  {
   "cell_type": "markdown",
   "metadata": {},
   "source": [
    "№ 2. принять от пользователя ввод (int) и найти все совершенные числа до введенного пользователем числа"
   ]
  },
  {
   "cell_type": "code",
   "execution_count": 3,
   "metadata": {},
   "outputs": [
    {
     "name": "stdout",
     "output_type": "stream",
     "text": [
      "Enter the number:  9000\n",
      "[6, 28, 496, 8128]\n"
     ]
    }
   ],
   "source": [
    "user_number = int(input('Enter the number:  '))\n",
    "perfect_numbers = []\n",
    "for number in range(1, user_number + 1):\n",
    "    amount = 0\n",
    "    for digit in range(1, number):\n",
    "        if number % digit == 0:\n",
    "            amount += digit\n",
    "    if amount == number:\n",
    "        perfect_numbers.append(number)\n",
    "print(perfect_numbers)\n",
    "    "
   ]
  },
  {
   "cell_type": "markdown",
   "metadata": {},
   "source": [
    "№ 3. принять от пользователя ввод (int) и найти все числа армстронга до введенного пользователем числа"
   ]
  },
  {
   "cell_type": "code",
   "execution_count": 2,
   "metadata": {},
   "outputs": [
    {
     "name": "stdout",
     "output_type": "stream",
     "text": [
      "Enter the number:  9500\n",
      "[1, 2, 3, 4, 5, 6, 7, 8, 9, 153, 370, 371, 407, 1634, 8208, 9474]\n"
     ]
    }
   ],
   "source": [
    "user_number = int(input('Enter the number:  '))\n",
    "armstr_numbers = []\n",
    "for number in range(1, user_number + 1):\n",
    "    number = str(number)\n",
    "    power = len(number)\n",
    "    amount = 0\n",
    "    for digit in number:\n",
    "        digit = int(digit)\n",
    "        amount += digit ** power\n",
    "    if amount == int(number):\n",
    "        armstr_numbers.append(int(number))\n",
    "print(armstr_numbers)"
   ]
  },
  {
   "cell_type": "markdown",
   "metadata": {},
   "source": [
    "№ 4. принять от пользователя ввод (int) и найти все числа поллиндромы до введенного пользователем числа"
   ]
  },
  {
   "cell_type": "code",
   "execution_count": 5,
   "metadata": {},
   "outputs": [
    {
     "name": "stdout",
     "output_type": "stream",
     "text": [
      "Enter the number:  2002\n",
      "[1, 2, 3, 4, 5, 6, 7, 8, 9, 11, 22, 33, 44, 55, 66, 77, 88, 99, 101, 111, 121, 131, 141, 151, 161, 171, 181, 191, 202, 212, 222, 232, 242, 252, 262, 272, 282, 292, 303, 313, 323, 333, 343, 353, 363, 373, 383, 393, 404, 414, 424, 434, 444, 454, 464, 474, 484, 494, 505, 515, 525, 535, 545, 555, 565, 575, 585, 595, 606, 616, 626, 636, 646, 656, 666, 676, 686, 696, 707, 717, 727, 737, 747, 757, 767, 777, 787, 797, 808, 818, 828, 838, 848, 858, 868, 878, 888, 898, 909, 919, 929, 939, 949, 959, 969, 979, 989, 999, 1001, 1111, 1221, 1331, 1441, 1551, 1661, 1771, 1881, 1991, 2002]\n"
     ]
    }
   ],
   "source": [
    "user_number = int(input('Enter the number:  '))\n",
    "palindromes = []\n",
    "for number in range(1, user_number + 1):\n",
    "    if number < 10:\n",
    "        palindromes.append(number)\n",
    "    else:\n",
    "        number = str(number)\n",
    "        for i in range(len(number)):\n",
    "            if number[i] != number[-i - 1]:\n",
    "                break\n",
    "        else:\n",
    "            palindromes.append(int(number))\n",
    "print(palindromes)"
   ]
  },
  {
   "cell_type": "code",
   "execution_count": 11,
   "metadata": {},
   "outputs": [
    {
     "name": "stdout",
     "output_type": "stream",
     "text": [
      "Enter the number:  2002\n",
      "1, 2, 3, 4, 5, 6, 7, 8, 9, 11, 22, 33, 44, 55, 66, 77, 88, 99, 101, 111, 121, 131, 141, 151, 161, 171, 181, 191, 202, 212, 222, 232, 242, 252, 262, 272, 282, 292, 303, 313, 323, 333, 343, 353, 363, 373, 383, 393, 404, 414, 424, 434, 444, 454, 464, 474, 484, 494, 505, 515, 525, 535, 545, 555, 565, 575, 585, 595, 606, 616, 626, 636, 646, 656, 666, 676, 686, 696, 707, 717, 727, 737, 747, 757, 767, 777, 787, 797, 808, 818, 828, 838, 848, 858, 868, 878, 888, 898, 909, 919, 929, 939, 949, 959, 969, 979, 989, 999, 1001, 1111, 1221, 1331, 1441, 1551, 1661, 1771, 1881, 1991, 2002, "
     ]
    }
   ],
   "source": [
    "# another variant\n",
    "user_number = int(input('Enter the number:  '))\n",
    "for number in range(1, user_number + 1):\n",
    "    number = str(number)\n",
    "    if number == number[::-1]:\n",
    "        print(number, end=', ')"
   ]
  }
 ],
 "metadata": {
  "kernelspec": {
   "display_name": "Python 3",
   "language": "python",
   "name": "python3"
  },
  "language_info": {
   "codemirror_mode": {
    "name": "ipython",
    "version": 3
   },
   "file_extension": ".py",
   "mimetype": "text/x-python",
   "name": "python",
   "nbconvert_exporter": "python",
   "pygments_lexer": "ipython3",
   "version": "3.8.5"
  }
 },
 "nbformat": 4,
 "nbformat_minor": 4
}
