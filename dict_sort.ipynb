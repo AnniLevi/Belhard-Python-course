{
 "cells": [
  {
   "cell_type": "code",
   "execution_count": null,
   "metadata": {},
   "outputs": [],
   "source": [
    "есть пользователи\n",
    "нужно написать функцию grouping_by\n",
    "которая принимает список пользователей и список ключей по которым нужно группировать\n",
    "\n",
    "пример: \n",
    "grouping_by(users, ['age']) -> \n",
    "[\n",
    "    [\n",
    "        {\"name\":\"Ivan\", \"age\":12, \"group\": 1},\n",
    "        {\"name\":\"Gleb\", \"age\":12, \"group\": 1}\n",
    "    ],\n",
    "    [\n",
    "        {\"name\":\"Uyval\", \"age\":15, \"group\": 2},\n",
    "        {\"name\":\"Grisha\", \"age\":15, \"group\": 1}\n",
    "    ],\n",
    "    [\n",
    "        {\"name\":\"Evlampy\", \"age\":17, \"group\": 2},\n",
    "        {\"name\":\"Oded\", \"age\":17, \"group\": 2},\n",
    "        {\"name\":\"Eyal\", \"age\":17, \"group\": 3},\n",
    "    ],\n",
    "    [\n",
    "        {\"name\":\"Adolf\", \"age\":19, \"group\": 1},\n",
    "        {\"name\":\"Felix\", \"age\":19, \"group\": 3},\n",
    "        {\"name\":\"Shachar\", \"age\":19, \"group\": 3},\n",
    "    ]\n",
    "]\n",
    "\n",
    "grouping_by(users, ['group']) -> \n",
    "[\n",
    "    [\n",
    "        {\"name\":\"Ivan\", \"age\":12, \"group\": 1},\n",
    "        {\"name\":\"Gleb\", \"age\":12, \"group\": 1},\n",
    "        {\"name\":\"Grisha\", \"age\":15, \"group\": 1},\n",
    "        {\"name\":\"Adolf\", \"age\":19, \"group\": 1},\n",
    "    ],\n",
    "    [\n",
    "        {\"name\":\"Uyval\", \"age\":15, \"group\": 2},\n",
    "        {\"name\":\"Evlampy\", \"age\":17, \"group\": 2},\n",
    "        {\"name\":\"Oded\", \"age\":17, \"group\": 2},\n",
    "    ],\n",
    "    [\n",
    "        {\"name\":\"Felix\", \"age\":19, \"group\": 3},\n",
    "        {\"name\":\"Shachar\", \"age\":19, \"group\": 3},\n",
    "        {\"name\":\"Eyal\", \"age\":17, \"group\": 3},\n",
    "    ]\n",
    "]\n",
    "\n",
    "сложная разбивка:\n",
    "grouping_by(users, ['age','group']) -> \n",
    "[\n",
    "    [\n",
    "        [\n",
    "            {\"name\":\"Ivan\", \"age\":12, \"group\": 1},\n",
    "            {\"name\":\"Gleb\", \"age\":12, \"group\": 1}\n",
    "        ]\n",
    "    ],\n",
    "    [\n",
    "        [\n",
    "            {\"name\":\"Uyval\", \"age\":15, \"group\": 2}\n",
    "        ],\n",
    "        [\n",
    "            {\"name\":\"Grisha\", \"age\":15, \"group\": 1}\n",
    "        ],\n",
    "    ],\n",
    "    [\n",
    "        [\n",
    "            {\"name\":\"Evlampy\", \"age\":17, \"group\": 2},\n",
    "            {\"name\":\"Oded\", \"age\":17, \"group\": 2}\n",
    "        ],\n",
    "        [\n",
    "            {\"name\":\"Eyal\", \"age\":17, \"group\": 3}\n",
    "        ],\n",
    "    ],\n",
    "    [\n",
    "        [\n",
    "            {\"name\":\"Adolf\", \"age\":19, \"group\": 1}\n",
    "        ],\n",
    "        [\n",
    "            {\"name\":\"Felix\", \"age\":19, \"group\": 3},\n",
    "            {\"name\":\"Shachar\", \"age\":19, \"group\": 3},\n",
    "        ]   \n",
    "    ]\n",
    "]"
   ]
  },
  {
   "cell_type": "code",
   "execution_count": 1,
   "metadata": {},
   "outputs": [],
   "source": [
    "from operator import itemgetter\n",
    "from itertools import groupby\n",
    "\n",
    "users = [\n",
    "    {\"name\":\"Ivan\", \"age\":12, \"group\": 1},\n",
    "    {\"name\":\"Gleb\", \"age\":12, \"group\": 1},\n",
    "    {\"name\":\"Uyval\", \"age\":15, \"group\": 2},\n",
    "    {\"name\":\"Grisha\", \"age\":15, \"group\": 1},\n",
    "    {\"name\":\"Evlampy\", \"age\":17, \"group\": 2},\n",
    "    {\"name\":\"Oded\", \"age\":17, \"group\": 2},\n",
    "    {\"name\":\"Adolf\", \"age\":19, \"group\": 1},\n",
    "    {\"name\":\"Felix\", \"age\":19, \"group\": 3},\n",
    "    {\"name\":\"Shachar\", \"age\":19, \"group\": 3},\n",
    "    {\"name\":\"Eyal\", \"age\":17, \"group\": 3},\n",
    "]\n",
    "\n"
   ]
  },
  {
   "cell_type": "code",
   "execution_count": 2,
   "metadata": {},
   "outputs": [
    {
     "data": {
      "text/plain": [
       "[[{'name': 'Ivan', 'age': 12, 'group': 1},\n",
       "  {'name': 'Gleb', 'age': 12, 'group': 1}],\n",
       " [{'name': 'Uyval', 'age': 15, 'group': 2},\n",
       "  {'name': 'Grisha', 'age': 15, 'group': 1}],\n",
       " [{'name': 'Evlampy', 'age': 17, 'group': 2},\n",
       "  {'name': 'Oded', 'age': 17, 'group': 2},\n",
       "  {'name': 'Eyal', 'age': 17, 'group': 3}],\n",
       " [{'name': 'Adolf', 'age': 19, 'group': 1},\n",
       "  {'name': 'Felix', 'age': 19, 'group': 3},\n",
       "  {'name': 'Shachar', 'age': 19, 'group': 3}]]"
      ]
     },
     "execution_count": 2,
     "metadata": {},
     "output_type": "execute_result"
    }
   ],
   "source": [
    "def grouping_by(users: list, keys: list) -> list:\n",
    "    get_by_key = itemgetter(keys[0])\n",
    "    result = []\n",
    "    sorted_users = sorted(users, key=get_by_key)\n",
    "    for group in groupby(sorted_users, get_by_key):\n",
    "        result.append(list(group[1]))\n",
    "    return result\n",
    "\n",
    "grouping_by(users=users, keys=['age'])"
   ]
  },
  {
   "cell_type": "code",
   "execution_count": 3,
   "metadata": {},
   "outputs": [
    {
     "data": {
      "text/plain": [
       "[[[{'name': 'Ivan', 'age': 12, 'group': 1},\n",
       "   {'name': 'Gleb', 'age': 12, 'group': 1}]],\n",
       " [[{'name': 'Uyval', 'age': 15, 'group': 2}],\n",
       "  [{'name': 'Grisha', 'age': 15, 'group': 1}]],\n",
       " [[{'name': 'Evlampy', 'age': 17, 'group': 2},\n",
       "   {'name': 'Oded', 'age': 17, 'group': 2}],\n",
       "  [{'name': 'Eyal', 'age': 17, 'group': 3}]],\n",
       " [[{'name': 'Adolf', 'age': 19, 'group': 1}],\n",
       "  [{'name': 'Felix', 'age': 19, 'group': 3},\n",
       "   {'name': 'Shachar', 'age': 19, 'group': 3}]]]"
      ]
     },
     "execution_count": 3,
     "metadata": {},
     "output_type": "execute_result"
    }
   ],
   "source": [
    "def grouping_by(users: list, keys: list) -> list:\n",
    "    get_by_key1 = itemgetter(keys[0])\n",
    "    get_by_key2 = itemgetter(keys[1])\n",
    "    result = []\n",
    "    sorted_users = sorted(users, key=get_by_key1)\n",
    "    for first_group in groupby(sorted_users, get_by_key1):\n",
    "        inserted_list = []\n",
    "        first_group = list(first_group[1])\n",
    "        for second_group in groupby(first_group, get_by_key2):\n",
    "            inserted_list.append(list(second_group[1]))\n",
    "        result.append(inserted_list)\n",
    "    return result\n",
    "\n",
    "grouping_by(users=users, keys=['age','group'])"
   ]
  }
 ],
 "metadata": {
  "kernelspec": {
   "display_name": "Python 3",
   "language": "python",
   "name": "python3"
  },
  "language_info": {
   "codemirror_mode": {
    "name": "ipython",
    "version": 3
   },
   "file_extension": ".py",
   "mimetype": "text/x-python",
   "name": "python",
   "nbconvert_exporter": "python",
   "pygments_lexer": "ipython3",
   "version": "3.8.5"
  }
 },
 "nbformat": 4,
 "nbformat_minor": 4
}
