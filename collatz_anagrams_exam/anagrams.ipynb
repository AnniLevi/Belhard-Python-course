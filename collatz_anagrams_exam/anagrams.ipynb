{
 "cells": [
  {
   "cell_type": "code",
   "execution_count": 2,
   "metadata": {},
   "outputs": [],
   "source": [
    "anagrams_statistics = {}\n",
    "\n",
    "with open(\"zaliznyak.txt\", mode=\"r\", encoding=\"cp1251\") as file_in:\n",
    "    for line in file_in:\n",
    "        line = line.strip('\\n')\n",
    "        sorted_line = sorted(line)\n",
    "        sorted_line = tuple(sorted_line)\n",
    "        if sorted_line not in anagrams_statistics:\n",
    "            anagrams_statistics[sorted_line] = list()\n",
    "        anagrams_statistics[sorted_line].append(line)\n",
    "        anagrams_statistics[sorted_line] = sorted(anagrams_statistics[sorted_line])\n",
    "        \n",
    "anagrams_statistics = list(anagrams_statistics.values())\n",
    "anagrams_statistics.sort(key=lambda family: (len(family), family[0]))\n",
    "max_family = len(anagrams_statistics[-1])\n",
    "\n",
    "with open(\"out.txt\", mode=\"w\", encoding=\"cp1251\") as file_out:\n",
    "    for length in range(max_family, 1, -1):\n",
    "        for family in anagrams_statistics:\n",
    "            if length == len(family):\n",
    "                file_out.write(', '.join(family) + '\\n')"
   ]
  },
  {
   "cell_type": "code",
   "execution_count": null,
   "metadata": {},
   "outputs": [],
   "source": []
  },
  {
   "cell_type": "code",
   "execution_count": null,
   "metadata": {},
   "outputs": [],
   "source": []
  }
 ],
 "metadata": {
  "kernelspec": {
   "display_name": "Python 3",
   "language": "python",
   "name": "python3"
  },
  "language_info": {
   "codemirror_mode": {
    "name": "ipython",
    "version": 3
   },
   "file_extension": ".py",
   "mimetype": "text/x-python",
   "name": "python",
   "nbconvert_exporter": "python",
   "pygments_lexer": "ipython3",
   "version": "3.8.5"
  }
 },
 "nbformat": 4,
 "nbformat_minor": 4
}
