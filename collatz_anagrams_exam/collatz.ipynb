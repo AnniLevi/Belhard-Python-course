{
 "cells": [
  {
   "cell_type": "code",
   "execution_count": 1,
   "metadata": {},
   "outputs": [],
   "source": [
    "def collatz(n):\n",
    "    trajectories = []\n",
    "    for digit in range(1, n):\n",
    "        trajectory = 0\n",
    "        while digit != 1:\n",
    "            if digit % 2 == 0:\n",
    "                digit = digit / 2\n",
    "            else:\n",
    "                digit = 3 * digit + 1\n",
    "            trajectory += 1\n",
    "        trajectories.append(trajectory)\n",
    "    max_trajectory = max(trajectories)\n",
    "    required_number = trajectories.index(max_trajectory) + 1\n",
    "    result = (required_number, max_trajectory)\n",
    "    return result"
   ]
  },
  {
   "cell_type": "code",
   "execution_count": 2,
   "metadata": {},
   "outputs": [
    {
     "name": "stdout",
     "output_type": "stream",
     "text": [
      "(18, 20)\n"
     ]
    }
   ],
   "source": [
    "print(collatz(25))"
   ]
  },
  {
   "cell_type": "code",
   "execution_count": 3,
   "metadata": {},
   "outputs": [],
   "source": [
    "def collatz(n):\n",
    "    max_trajectory = 0\n",
    "    required_number = 1\n",
    "    for digit in range(1, n):\n",
    "        value = digit\n",
    "        trajectory = 0\n",
    "        while value > 1:\n",
    "            if value % 2 == 0:\n",
    "                value /= 2\n",
    "            else:\n",
    "                value = 3 * value + 1\n",
    "            trajectory += 1\n",
    "        if trajectory > max_trajectory:\n",
    "            max_trajectory = trajectory\n",
    "            required_number = digit\n",
    "    result = (required_number, max_trajectory)\n",
    "    return result"
   ]
  },
  {
   "cell_type": "code",
   "execution_count": 4,
   "metadata": {},
   "outputs": [
    {
     "name": "stdout",
     "output_type": "stream",
     "text": [
      "(6171, 261)\n"
     ]
    }
   ],
   "source": [
    "print(collatz(10000))"
   ]
  },
  {
   "cell_type": "code",
   "execution_count": null,
   "metadata": {},
   "outputs": [],
   "source": []
  }
 ],
 "metadata": {
  "kernelspec": {
   "display_name": "Python 3",
   "language": "python",
   "name": "python3"
  },
  "language_info": {
   "codemirror_mode": {
    "name": "ipython",
    "version": 3
   },
   "file_extension": ".py",
   "mimetype": "text/x-python",
   "name": "python",
   "nbconvert_exporter": "python",
   "pygments_lexer": "ipython3",
   "version": "3.8.5"
  }
 },
 "nbformat": 4,
 "nbformat_minor": 4
}
