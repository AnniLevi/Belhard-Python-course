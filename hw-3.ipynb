{
 "cells": [
  {
   "cell_type": "markdown",
   "metadata": {},
   "source": [
    "Есть списки \n",
    "users = [(1,\"oleg\"),(2,\"valera\"),(3,\"oded\"),(4,\"yuval\")......]\n",
    "tasts = [(2,\"go shoping\"),(4, \"cook breakfast\"),(5,\"python coding\")......]\n",
    "Нужно получить следующие результирующий список\n",
    "[(\"valera\",\"go shoping\"),(\"yuval\",\"cook breakfast\")......]"
   ]
  },
  {
   "cell_type": "code",
   "execution_count": null,
   "metadata": {},
   "outputs": [],
   "source": [
    "users = [(1,\"oleg\"),(2,\"valera\"),(3,\"oded\"),(4,\"yuval\")]\n",
    "tasts = [(2,\"go shoping\"),(4, \"cook breakfast\"),(5,\"python coding\")]"
   ]
  },
  {
   "cell_type": "code",
   "execution_count": 11,
   "metadata": {},
   "outputs": [
    {
     "name": "stdout",
     "output_type": "stream",
     "text": [
      "[('valera', 'go shoping'), ('yuval', 'cook breakfast')]\n"
     ]
    }
   ],
   "source": [
    "result = []\n",
    "for user in users:\n",
    "    for tast in tasts:\n",
    "        if user[0] == tast[0]:\n",
    "            result.append((user[1], tast[1]))\n",
    "print(result)"
   ]
  },
  {
   "cell_type": "markdown",
   "metadata": {},
   "source": [
    "---"
   ]
  },
  {
   "cell_type": "code",
   "execution_count": 13,
   "metadata": {},
   "outputs": [
    {
     "data": {
      "text/plain": [
       "[('valera', 'go shoping'), ('yuval', 'cook breakfast')]"
      ]
     },
     "execution_count": 13,
     "metadata": {},
     "output_type": "execute_result"
    }
   ],
   "source": [
    "users = [(1,\"oleg\"),(2,\"valera\"),(3,\"oded\"),(4,\"yuval\")]\n",
    "tasts = [(2,\"go shoping\"),(4, \"cook breakfast\"),(5,\"python coding\")]\n",
    "result = [(user[1], tast[1]) for user in users for tast in tasts if user[0] == tast[0]]\n",
    "result\n"
   ]
  },
  {
   "cell_type": "markdown",
   "metadata": {},
   "source": [
    "---"
   ]
  },
  {
   "cell_type": "code",
   "execution_count": null,
   "metadata": {},
   "outputs": [],
   "source": [
    "users = [(1,\"oleg\"),(2,\"valera\"),(3,\"oded\"),(4,\"yuval\")]\n",
    "tasts = [(2,\"go shoping\"),(4, \"cook breakfast\"),(5,\"python coding\")]\n",
    "for user in users:\n",
    "    if user[0] in :"
   ]
  },
  {
   "cell_type": "code",
   "execution_count": null,
   "metadata": {},
   "outputs": [],
   "source": []
  },
  {
   "cell_type": "code",
   "execution_count": 6,
   "metadata": {},
   "outputs": [
    {
     "name": "stdout",
     "output_type": "stream",
     "text": [
      "[(1, 'H'), (2, 'e'), (3, 'l'), (4, 'l'), (5, 'o')]\n"
     ]
    }
   ],
   "source": [
    "list1 = [1, 2, 3, 4, 5]\n",
    "list2 = 'Hello_world'\n",
    "list3 = list(zip(list1, list2))\n",
    "print(list3)"
   ]
  },
  {
   "cell_type": "code",
   "execution_count": 10,
   "metadata": {},
   "outputs": [
    {
     "name": "stdout",
     "output_type": "stream",
     "text": [
      "0 H\n",
      "1 e\n",
      "2 l\n",
      "3 l\n",
      "4 o\n",
      "5 _\n",
      "6 w\n",
      "7 o\n",
      "8 r\n",
      "9 l\n",
      "10 d\n"
     ]
    }
   ],
   "source": [
    "for index, value in enumerate(list2):\n",
    "    print(index, value)"
   ]
  },
  {
   "cell_type": "code",
   "execution_count": null,
   "metadata": {},
   "outputs": [],
   "source": []
  }
 ],
 "metadata": {
  "kernelspec": {
   "display_name": "Python 3",
   "language": "python",
   "name": "python3"
  },
  "language_info": {
   "codemirror_mode": {
    "name": "ipython",
    "version": 3
   },
   "file_extension": ".py",
   "mimetype": "text/x-python",
   "name": "python",
   "nbconvert_exporter": "python",
   "pygments_lexer": "ipython3",
   "version": "3.8.5"
  }
 },
 "nbformat": 4,
 "nbformat_minor": 4
}
